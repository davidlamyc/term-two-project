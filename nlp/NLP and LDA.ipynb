{
 "cells": [
  {
   "cell_type": "code",
   "execution_count": 1,
   "id": "c885c5a9",
   "metadata": {},
   "outputs": [
    {
     "name": "stderr",
     "output_type": "stream",
     "text": [
      "C:\\Users\\david\\anaconda3\\lib\\site-packages\\gensim\\similarities\\__init__.py:15: UserWarning: The gensim.similarities.levenshtein submodule is disabled, because the optional Levenshtein package <https://pypi.org/project/python-Levenshtein/> is unavailable. Install Levenhstein (e.g. `pip install python-Levenshtein`) to suppress this warning.\n",
      "  warnings.warn(msg)\n",
      "[nltk_data] Downloading package stopwords to\n",
      "[nltk_data]     C:\\Users\\david\\AppData\\Roaming\\nltk_data...\n",
      "[nltk_data]   Package stopwords is already up-to-date!\n"
     ]
    },
    {
     "data": {
      "text/plain": [
       "True"
      ]
     },
     "execution_count": 1,
     "metadata": {},
     "output_type": "execute_result"
    }
   ],
   "source": [
    "import numpy as np\n",
    "import pandas as pd\n",
    "from matplotlib import pyplot as plt\n",
    "import nltk\n",
    "from nltk.corpus import stopwords\n",
    "from textblob import Word, TextBlob\n",
    "import seaborn as sns\n",
    "from wordcloud import WordCloud\n",
    "import glob\n",
    "\n",
    "# gensim\n",
    "import gensim\n",
    "import gensim.corpora as corpora\n",
    "from gensim.utils import simple_preprocess\n",
    "from gensim.models import CoherenceModel\n",
    "from gensim.parsing.preprocessing import STOPWORDS\n",
    "\n",
    "# spacy\n",
    "import spacy\n",
    "from nltk.corpus import stopwords\n",
    "\n",
    "# viz\n",
    "import pyLDAvis\n",
    "import pyLDAvis.gensim_models\n",
    "\n",
    "import nltk\n",
    "nltk.download('stopwords')"
   ]
  },
  {
   "cell_type": "code",
   "execution_count": 2,
   "id": "6af6dbfe",
   "metadata": {
    "scrolled": false
   },
   "outputs": [
    {
     "name": "stderr",
     "output_type": "stream",
     "text": [
      "C:\\Users\\david\\anaconda3\\lib\\site-packages\\ipykernel\\ipkernel.py:287: DeprecationWarning: `should_run_async` will not call `transform_cell` automatically in the future. Please pass the result to `transformed_cell` argument and any exception that happen during thetransform in `preprocessing_exc_tuple` in IPython 7.17 and above.\n",
      "  and should_run_async(code)\n"
     ]
    }
   ],
   "source": [
    "# using these parts of speech result in the best results\n",
    "def lemmatization(texts, allowed_postags=[\"NOUN\",\"ADJ\",\"VERB\",\"ADV\"]):\n",
    "    nlp = spacy.load(\"en_core_web_sm\", disable=[\"parser\",\"ner\"])\n",
    "    texts_out = []\n",
    "    for text in texts:\n",
    "        doc = nlp(text)\n",
    "        new_text = []\n",
    "        for token in doc:\n",
    "            if token.pos_ in allowed_postags:\n",
    "                new_text.append(token.lemma_)\n",
    "        final = \" \". join(new_text)\n",
    "        texts_out.append(final)\n",
    "    return texts_out"
   ]
  },
  {
   "cell_type": "code",
   "execution_count": 3,
   "id": "4eee0a50",
   "metadata": {
    "scrolled": true
   },
   "outputs": [
    {
     "name": "stderr",
     "output_type": "stream",
     "text": [
      "C:\\Users\\david\\anaconda3\\lib\\site-packages\\ipykernel\\ipkernel.py:287: DeprecationWarning: `should_run_async` will not call `transform_cell` automatically in the future. Please pass the result to `transformed_cell` argument and any exception that happen during thetransform in `preprocessing_exc_tuple` in IPython 7.17 and above.\n",
      "  and should_run_async(code)\n"
     ]
    }
   ],
   "source": [
    "trans_reviews = pd.read_csv('olist_order_reviews_dataset_with_translation.csv',error_bad_lines=False)"
   ]
  },
  {
   "cell_type": "code",
   "execution_count": 4,
   "id": "8223c4f0",
   "metadata": {
    "scrolled": true
   },
   "outputs": [
    {
     "name": "stderr",
     "output_type": "stream",
     "text": [
      "C:\\Users\\david\\anaconda3\\lib\\site-packages\\ipykernel\\ipkernel.py:287: DeprecationWarning: `should_run_async` will not call `transform_cell` automatically in the future. Please pass the result to `transformed_cell` argument and any exception that happen during thetransform in `preprocessing_exc_tuple` in IPython 7.17 and above.\n",
      "  and should_run_async(code)\n"
     ]
    },
    {
     "data": {
      "text/html": [
       "<div>\n",
       "<style scoped>\n",
       "    .dataframe tbody tr th:only-of-type {\n",
       "        vertical-align: middle;\n",
       "    }\n",
       "\n",
       "    .dataframe tbody tr th {\n",
       "        vertical-align: top;\n",
       "    }\n",
       "\n",
       "    .dataframe thead th {\n",
       "        text-align: right;\n",
       "    }\n",
       "</style>\n",
       "<table border=\"1\" class=\"dataframe\">\n",
       "  <thead>\n",
       "    <tr style=\"text-align: right;\">\n",
       "      <th></th>\n",
       "      <th>review_id</th>\n",
       "      <th>order_id</th>\n",
       "      <th>review_score</th>\n",
       "      <th>review_comment_title</th>\n",
       "      <th>review_comment_message</th>\n",
       "      <th>review_creation_date</th>\n",
       "      <th>review_answer_timestamp</th>\n",
       "      <th>review_comment_title_english</th>\n",
       "      <th>review_comment_message_english</th>\n",
       "    </tr>\n",
       "  </thead>\n",
       "  <tbody>\n",
       "    <tr>\n",
       "      <th>3</th>\n",
       "      <td>e64fb393e7b32834bb789ff8bb30750e</td>\n",
       "      <td>658677c97b385a9be170737859d3511b</td>\n",
       "      <td>5</td>\n",
       "      <td>NaN</td>\n",
       "      <td>Recebi bem antes do prazo estipulado.</td>\n",
       "      <td>2017-04-21 00:00:00</td>\n",
       "      <td>2017-04-21 22:02:06</td>\n",
       "      <td>NaN</td>\n",
       "      <td>I received well before the stipulated deadline.</td>\n",
       "    </tr>\n",
       "    <tr>\n",
       "      <th>4</th>\n",
       "      <td>f7c4243c7fe1938f181bec41a392bdeb</td>\n",
       "      <td>8e6bfb81e283fa7e4f11123a3fb894f1</td>\n",
       "      <td>5</td>\n",
       "      <td>NaN</td>\n",
       "      <td>Parabéns lojas lannister adorei comprar pela I...</td>\n",
       "      <td>2018-03-01 00:00:00</td>\n",
       "      <td>2018-03-02 10:26:53</td>\n",
       "      <td>NaN</td>\n",
       "      <td>Congratulations LANNISTER stores I loved to bu...</td>\n",
       "    </tr>\n",
       "    <tr>\n",
       "      <th>9</th>\n",
       "      <td>8670d52e15e00043ae7de4c01cc2fe06</td>\n",
       "      <td>b9bf720beb4ab3728760088589c62129</td>\n",
       "      <td>4</td>\n",
       "      <td>recomendo</td>\n",
       "      <td>aparelho eficiente. no site a marca do aparelh...</td>\n",
       "      <td>2018-05-22 00:00:00</td>\n",
       "      <td>2018-05-23 16:45:47</td>\n",
       "      <td>I recommend</td>\n",
       "      <td>efficient device. on the site the mark of the ...</td>\n",
       "    </tr>\n",
       "    <tr>\n",
       "      <th>12</th>\n",
       "      <td>4b49719c8a200003f700d3d986ea1a19</td>\n",
       "      <td>9d6f15f95d01e79bd1349cc208361f09</td>\n",
       "      <td>4</td>\n",
       "      <td>NaN</td>\n",
       "      <td>Mas um pouco ,travando...pelo valor ta Boa.\\r\\n</td>\n",
       "      <td>2018-02-16 00:00:00</td>\n",
       "      <td>2018-02-20 10:52:22</td>\n",
       "      <td>NaN</td>\n",
       "      <td>But a little, catching ... for the value is go...</td>\n",
       "    </tr>\n",
       "    <tr>\n",
       "      <th>15</th>\n",
       "      <td>3948b09f7c818e2d86c9a546758b2335</td>\n",
       "      <td>e51478e7e277a83743b6f9991dbfa3fb</td>\n",
       "      <td>5</td>\n",
       "      <td>Super recomendo</td>\n",
       "      <td>Vendedor confiável, produto ok e entrega antes...</td>\n",
       "      <td>2018-05-23 00:00:00</td>\n",
       "      <td>2018-05-24 03:00:01</td>\n",
       "      <td>Super recommend</td>\n",
       "      <td>Reliable seller, product ok and delivery befor...</td>\n",
       "    </tr>\n",
       "    <tr>\n",
       "      <th>...</th>\n",
       "      <td>...</td>\n",
       "      <td>...</td>\n",
       "      <td>...</td>\n",
       "      <td>...</td>\n",
       "      <td>...</td>\n",
       "      <td>...</td>\n",
       "      <td>...</td>\n",
       "      <td>...</td>\n",
       "      <td>...</td>\n",
       "    </tr>\n",
       "    <tr>\n",
       "      <th>99205</th>\n",
       "      <td>98fffa80dc9acbde7388bef1600f3b15</td>\n",
       "      <td>d398e9c82363c12527f71801bf0e6100</td>\n",
       "      <td>4</td>\n",
       "      <td>NaN</td>\n",
       "      <td>para este produto recebi de acordo com a compr...</td>\n",
       "      <td>2017-11-29 00:00:00</td>\n",
       "      <td>2017-11-30 15:52:51</td>\n",
       "      <td>NaN</td>\n",
       "      <td>For this product I received according to the p...</td>\n",
       "    </tr>\n",
       "    <tr>\n",
       "      <th>99208</th>\n",
       "      <td>df5fae90e85354241d5d64a8955b2b09</td>\n",
       "      <td>509b86c65fe4e2ad5b96408cfef9755e</td>\n",
       "      <td>5</td>\n",
       "      <td>NaN</td>\n",
       "      <td>Entregou dentro do prazo. O produto chegou em ...</td>\n",
       "      <td>2018-02-07 00:00:00</td>\n",
       "      <td>2018-02-19 19:47:23</td>\n",
       "      <td>NaN</td>\n",
       "      <td>Delivered within the deadline. The product has...</td>\n",
       "    </tr>\n",
       "    <tr>\n",
       "      <th>99215</th>\n",
       "      <td>a709d176f59bc3af77f4149c96bae357</td>\n",
       "      <td>d5cb12269711bd1eaf7eed8fd32a7c95</td>\n",
       "      <td>3</td>\n",
       "      <td>NaN</td>\n",
       "      <td>O produto não foi enviado com NF, não existe v...</td>\n",
       "      <td>2018-05-19 00:00:00</td>\n",
       "      <td>2018-05-20 21:51:06</td>\n",
       "      <td>NaN</td>\n",
       "      <td>The product was not sent with NF, there is no ...</td>\n",
       "    </tr>\n",
       "    <tr>\n",
       "      <th>99221</th>\n",
       "      <td>b3de70c89b1510c4cd3d0649fd302472</td>\n",
       "      <td>55d4004744368f5571d1f590031933e4</td>\n",
       "      <td>5</td>\n",
       "      <td>NaN</td>\n",
       "      <td>Excelente mochila, entrega super rápida. Super...</td>\n",
       "      <td>2018-03-22 00:00:00</td>\n",
       "      <td>2018-03-23 09:10:43</td>\n",
       "      <td>NaN</td>\n",
       "      <td>Excellent backpack, super fast delivery. Super...</td>\n",
       "    </tr>\n",
       "    <tr>\n",
       "      <th>99223</th>\n",
       "      <td>efe49f1d6f951dd88b51e6ccd4cc548f</td>\n",
       "      <td>90531360ecb1eec2a1fbb265a0db0508</td>\n",
       "      <td>1</td>\n",
       "      <td>NaN</td>\n",
       "      <td>meu produto chegou e ja tenho que devolver, po...</td>\n",
       "      <td>2017-07-03 00:00:00</td>\n",
       "      <td>2017-07-03 21:01:49</td>\n",
       "      <td>NaN</td>\n",
       "      <td>My product arrived and I already have to retur...</td>\n",
       "    </tr>\n",
       "  </tbody>\n",
       "</table>\n",
       "<p>40950 rows × 9 columns</p>\n",
       "</div>"
      ],
      "text/plain": [
       "                              review_id                          order_id  \\\n",
       "3      e64fb393e7b32834bb789ff8bb30750e  658677c97b385a9be170737859d3511b   \n",
       "4      f7c4243c7fe1938f181bec41a392bdeb  8e6bfb81e283fa7e4f11123a3fb894f1   \n",
       "9      8670d52e15e00043ae7de4c01cc2fe06  b9bf720beb4ab3728760088589c62129   \n",
       "12     4b49719c8a200003f700d3d986ea1a19  9d6f15f95d01e79bd1349cc208361f09   \n",
       "15     3948b09f7c818e2d86c9a546758b2335  e51478e7e277a83743b6f9991dbfa3fb   \n",
       "...                                 ...                               ...   \n",
       "99205  98fffa80dc9acbde7388bef1600f3b15  d398e9c82363c12527f71801bf0e6100   \n",
       "99208  df5fae90e85354241d5d64a8955b2b09  509b86c65fe4e2ad5b96408cfef9755e   \n",
       "99215  a709d176f59bc3af77f4149c96bae357  d5cb12269711bd1eaf7eed8fd32a7c95   \n",
       "99221  b3de70c89b1510c4cd3d0649fd302472  55d4004744368f5571d1f590031933e4   \n",
       "99223  efe49f1d6f951dd88b51e6ccd4cc548f  90531360ecb1eec2a1fbb265a0db0508   \n",
       "\n",
       "       review_score review_comment_title  \\\n",
       "3                 5                  NaN   \n",
       "4                 5                  NaN   \n",
       "9                 4            recomendo   \n",
       "12                4                  NaN   \n",
       "15                5      Super recomendo   \n",
       "...             ...                  ...   \n",
       "99205             4                  NaN   \n",
       "99208             5                  NaN   \n",
       "99215             3                  NaN   \n",
       "99221             5                  NaN   \n",
       "99223             1                  NaN   \n",
       "\n",
       "                                  review_comment_message review_creation_date  \\\n",
       "3                  Recebi bem antes do prazo estipulado.  2017-04-21 00:00:00   \n",
       "4      Parabéns lojas lannister adorei comprar pela I...  2018-03-01 00:00:00   \n",
       "9      aparelho eficiente. no site a marca do aparelh...  2018-05-22 00:00:00   \n",
       "12       Mas um pouco ,travando...pelo valor ta Boa.\\r\\n  2018-02-16 00:00:00   \n",
       "15     Vendedor confiável, produto ok e entrega antes...  2018-05-23 00:00:00   \n",
       "...                                                  ...                  ...   \n",
       "99205  para este produto recebi de acordo com a compr...  2017-11-29 00:00:00   \n",
       "99208  Entregou dentro do prazo. O produto chegou em ...  2018-02-07 00:00:00   \n",
       "99215  O produto não foi enviado com NF, não existe v...  2018-05-19 00:00:00   \n",
       "99221  Excelente mochila, entrega super rápida. Super...  2018-03-22 00:00:00   \n",
       "99223  meu produto chegou e ja tenho que devolver, po...  2017-07-03 00:00:00   \n",
       "\n",
       "      review_answer_timestamp review_comment_title_english  \\\n",
       "3         2017-04-21 22:02:06                          NaN   \n",
       "4         2018-03-02 10:26:53                          NaN   \n",
       "9         2018-05-23 16:45:47                 I recommend    \n",
       "12        2018-02-20 10:52:22                          NaN   \n",
       "15        2018-05-24 03:00:01             Super recommend    \n",
       "...                       ...                          ...   \n",
       "99205     2017-11-30 15:52:51                          NaN   \n",
       "99208     2018-02-19 19:47:23                          NaN   \n",
       "99215     2018-05-20 21:51:06                          NaN   \n",
       "99221     2018-03-23 09:10:43                          NaN   \n",
       "99223     2017-07-03 21:01:49                          NaN   \n",
       "\n",
       "                          review_comment_message_english  \n",
       "3       I received well before the stipulated deadline.   \n",
       "4      Congratulations LANNISTER stores I loved to bu...  \n",
       "9      efficient device. on the site the mark of the ...  \n",
       "12     But a little, catching ... for the value is go...  \n",
       "15     Reliable seller, product ok and delivery befor...  \n",
       "...                                                  ...  \n",
       "99205  For this product I received according to the p...  \n",
       "99208  Delivered within the deadline. The product has...  \n",
       "99215  The product was not sent with NF, there is no ...  \n",
       "99221  Excellent backpack, super fast delivery. Super...  \n",
       "99223  My product arrived and I already have to retur...  \n",
       "\n",
       "[40950 rows x 9 columns]"
      ]
     },
     "execution_count": 4,
     "metadata": {},
     "output_type": "execute_result"
    }
   ],
   "source": [
    "# Only care about records that have reviews\n",
    "trans_reviews = trans_reviews[trans_reviews['review_comment_message_english'].notna()]\n",
    "trans_reviews"
   ]
  },
  {
   "cell_type": "code",
   "execution_count": 5,
   "id": "54d63349",
   "metadata": {
    "scrolled": true
   },
   "outputs": [
    {
     "name": "stderr",
     "output_type": "stream",
     "text": [
      "C:\\Users\\david\\anaconda3\\lib\\site-packages\\ipykernel\\ipkernel.py:287: DeprecationWarning: `should_run_async` will not call `transform_cell` automatically in the future. Please pass the result to `transformed_cell` argument and any exception that happen during thetransform in `preprocessing_exc_tuple` in IPython 7.17 and above.\n",
      "  and should_run_async(code)\n"
     ]
    }
   ],
   "source": [
    "# remove stop words\n",
    "stop = stopwords.words('english')\n",
    "trans_reviews['review_comment_message_english'] = trans_reviews['review_comment_message_english'].apply(lambda x: ' '.join([word for word in x.split() if word not in (stop)]))"
   ]
  },
  {
   "cell_type": "code",
   "execution_count": 6,
   "id": "aa400d4c",
   "metadata": {},
   "outputs": [
    {
     "name": "stderr",
     "output_type": "stream",
     "text": [
      "C:\\Users\\david\\anaconda3\\lib\\site-packages\\ipykernel\\ipkernel.py:287: DeprecationWarning: `should_run_async` will not call `transform_cell` automatically in the future. Please pass the result to `transformed_cell` argument and any exception that happen during thetransform in `preprocessing_exc_tuple` in IPython 7.17 and above.\n",
      "  and should_run_async(code)\n"
     ]
    }
   ],
   "source": [
    "# lemmatization\n",
    "trans_reviews['review_comment_message_english'] = trans_reviews['review_comment_message_english'].astype(str)\n",
    "trans_reviews['processed_reviews'] = lemmatization(trans_reviews['review_comment_message_english'])"
   ]
  },
  {
   "cell_type": "code",
   "execution_count": 7,
   "id": "dbca55c2",
   "metadata": {},
   "outputs": [
    {
     "name": "stderr",
     "output_type": "stream",
     "text": [
      "C:\\Users\\david\\anaconda3\\lib\\site-packages\\ipykernel\\ipkernel.py:287: DeprecationWarning: `should_run_async` will not call `transform_cell` automatically in the future. Please pass the result to `transformed_cell` argument and any exception that happen during thetransform in `preprocessing_exc_tuple` in IPython 7.17 and above.\n",
      "  and should_run_async(code)\n"
     ]
    },
    {
     "data": {
      "text/plain": [
       "3                    [receive, well, stipulated, deadline]\n",
       "4        [store, love, buy, internet, safe, practical, ...\n",
       "9        [efficient, device, site, mark, device, print,...\n",
       "12                            [little, catch, value, good]\n",
       "15             [reliable, seller, product, delivery, time]\n",
       "                               ...                        \n",
       "99205           [product, receive, accord, purchase, hold]\n",
       "99208    [deliver, deadline, product, reach, perfect, c...\n",
       "99215    [product, send, sale, be, sure, be, wait, send...\n",
       "99221    [excellent, backpack, super, fast, delivery, s...\n",
       "99223    [product, arrive, already, return, defective, ...\n",
       "Name: processed_reviews, Length: 40950, dtype: object"
      ]
     },
     "execution_count": 7,
     "metadata": {},
     "output_type": "execute_result"
    }
   ],
   "source": [
    "def gen_words(texts):\n",
    "    final = []\n",
    "    for text in texts:\n",
    "        new = gensim.utils.simple_preprocess(text, deacc=True)\n",
    "        final.append(new)\n",
    "    return final\n",
    "\n",
    "trans_reviews['processed_reviews'] = gen_words(trans_reviews['processed_reviews'])\n",
    "trans_reviews['processed_reviews']"
   ]
  },
  {
   "cell_type": "code",
   "execution_count": 8,
   "id": "bd878686",
   "metadata": {},
   "outputs": [
    {
     "name": "stderr",
     "output_type": "stream",
     "text": [
      "C:\\Users\\david\\anaconda3\\lib\\site-packages\\ipykernel\\ipkernel.py:287: DeprecationWarning: `should_run_async` will not call `transform_cell` automatically in the future. Please pass the result to `transformed_cell` argument and any exception that happen during thetransform in `preprocessing_exc_tuple` in IPython 7.17 and above.\n",
      "  and should_run_async(code)\n"
     ]
    }
   ],
   "source": [
    "# bigrams and trigrams, so we can recognise a collection of words\n",
    "bigram_phrases = gensim.models.Phrases(trans_reviews['processed_reviews'], min_count=5,threshold=50)\n",
    "trigram_phrases = gensim.models.Phrases(bigram_phrases[trans_reviews['processed_reviews']],threshold=50)\n",
    "\n",
    "bigram = gensim.models.phrases.Phraser(bigram_phrases)\n",
    "trigram = gensim.models.phrases.Phraser(trigram_phrases)\n",
    "\n",
    "def make_bigrams(texts):\n",
    "    return ([bigram[doc] for doc in texts])\n",
    "\n",
    "def make_trigrams(texts):\n",
    "    return ([trigram[bigram[doc]] for doc in texts])\n",
    "\n",
    "data_bigrams = make_bigrams(trans_reviews['processed_reviews'])\n",
    "data_bigrams_trigrams = make_trigrams(data_bigrams)"
   ]
  },
  {
   "cell_type": "code",
   "execution_count": 9,
   "id": "5462c50a",
   "metadata": {},
   "outputs": [
    {
     "name": "stderr",
     "output_type": "stream",
     "text": [
      "C:\\Users\\david\\anaconda3\\lib\\site-packages\\ipykernel\\ipkernel.py:287: DeprecationWarning: `should_run_async` will not call `transform_cell` automatically in the future. Please pass the result to `transformed_cell` argument and any exception that happen during thetransform in `preprocessing_exc_tuple` in IPython 7.17 and above.\n",
      "  and should_run_async(code)\n"
     ]
    }
   ],
   "source": [
    "# TF-IDF removal, remove low value words\n",
    "from gensim.models import TfidfModel\n",
    "\n",
    "id2word = corpora.Dictionary(data_bigrams_trigrams)\n",
    "\n",
    "texts = data_bigrams_trigrams\n",
    "\n",
    "corpus = [id2word.doc2bow(text) for text in texts]\n",
    "\n",
    "tfidf = TfidfModel(corpus, id2word=id2word)\n",
    "\n",
    "low_value = 0.03\n",
    "words = []\n",
    "words_missing_in_tfidf = []\n",
    "for i in range(0, len(corpus)):\n",
    "    bow = corpus[i]\n",
    "    low_value_words = []\n",
    "    tfidf_ids = [id for id, value in tfidf[bow]]\n",
    "    bow_ids = [id for id, value in bow]\n",
    "    low_value_words = [id for id, value in tfidf[bow] if value < low_value]\n",
    "    drops = low_value_words + words_missing_in_tfidf\n",
    "    for item in drops:\n",
    "        words.append(id2word[item])\n",
    "    words_missing_in_tfidf = [id for id in bow_ids if id not in tfidf_ids]\n",
    "    \n",
    "    new_bow = [b for b in bow if b[0] not in low_value_words and b[0] not in words_missing_in_tfidf]\n",
    "    corpus[i] = new_bow"
   ]
  },
  {
   "cell_type": "code",
   "execution_count": 10,
   "id": "70c2e4b2",
   "metadata": {},
   "outputs": [
    {
     "name": "stderr",
     "output_type": "stream",
     "text": [
      "C:\\Users\\david\\anaconda3\\lib\\site-packages\\ipykernel\\ipkernel.py:287: DeprecationWarning: `should_run_async` will not call `transform_cell` automatically in the future. Please pass the result to `transformed_cell` argument and any exception that happen during thetransform in `preprocessing_exc_tuple` in IPython 7.17 and above.\n",
      "  and should_run_async(code)\n"
     ]
    }
   ],
   "source": [
    "# train the topic model\n",
    "lda_model = gensim.models.ldamodel.LdaModel(corpus=corpus,\n",
    "                                            id2word=id2word,\n",
    "                                            num_topics=10,\n",
    "                                            random_state=100,\n",
    "                                            update_every=1,\n",
    "                                            chunksize=100,\n",
    "                                            passes=10,\n",
    "                                            alpha=\"auto\")"
   ]
  },
  {
   "cell_type": "code",
   "execution_count": 11,
   "id": "aff13e7e",
   "metadata": {
    "scrolled": true
   },
   "outputs": [
    {
     "name": "stderr",
     "output_type": "stream",
     "text": [
      "C:\\Users\\david\\anaconda3\\lib\\site-packages\\ipykernel\\ipkernel.py:287: DeprecationWarning: `should_run_async` will not call `transform_cell` automatically in the future. Please pass the result to `transformed_cell` argument and any exception that happen during thetransform in `preprocessing_exc_tuple` in IPython 7.17 and above.\n",
      "  and should_run_async(code)\n"
     ]
    },
    {
     "data": {
      "text/html": [
       "\n",
       "<link rel=\"stylesheet\" type=\"text/css\" href=\"https://cdn.jsdelivr.net/gh/bmabey/pyLDAvis@3.3.1/pyLDAvis/js/ldavis.v1.0.0.css\">\n",
       "\n",
       "\n",
       "<div id=\"ldavis_el2164416829012411842816262468\"></div>\n",
       "<script type=\"text/javascript\">\n",
       "\n",
       "var ldavis_el2164416829012411842816262468_data = {\"mdsDat\": {\"x\": [0.4042652568581695, 0.11643176453840115, -0.34535366448000276, -0.2565329926361978, 0.19145764780720387, -0.15853720553349437, -0.10437909796743768, -0.4602608314281967, 0.1689788195103981, 0.4439303033311566], \"y\": [0.2596730579799466, 0.437357688089381, -0.2601211414608323, 0.40399449197013226, -0.426200928007653, 0.14957870528726483, -0.3996879995093444, 0.020601586931497048, -0.05903348912172366, -0.12616197215866837], \"topics\": [1, 2, 3, 4, 5, 6, 7, 8, 9, 10], \"cluster\": [1, 1, 1, 1, 1, 1, 1, 1, 1, 1], \"Freq\": [32.32407544534601, 15.416060253820598, 9.224416383925883, 8.280305681607754, 6.6330029880398325, 6.4271084051059875, 6.0046246326699375, 5.73620989439154, 5.133117180207458, 4.821079134884998]}, \"tinfo\": {\"Term\": [\"product\", \"good\", \"receive\", \"time\", \"buy\", \"quality\", \"delivery\", \"deadline\", \"store\", \"very\", \"excellent\", \"deliver\", \"be\", \"arrive\", \"come\", \"love\", \"recommend\", \"like\", \"purchase\", \"right\", \"product\", \"delivery\", \"deadline\", \"deliver\", \"arrive\", \"come\", \"recommend\", \"great\", \"fast\", \"well\", \"super\", \"perfect\", \"condition\", \"accord\", \"little\", \"merchandise\", \"go\", \"reach\", \"value\", \"correctly\", \"receive\", \"buy\", \"purchase\", \"request\", \"day\", \"make\", \"yet\", \"return\", \"far\", \"need\", \"mail\", \"miss\", \"contact\", \"do\", \"cancel\", \"email\", \"invoice\", \"first\", \"satisfaction\", \"hope\", \"expect\", \"already\", \"problem\", \"get\", \"give\", \"use\", \"long\", \"order\", \"delay\", \"different\", \"wrong\", \"even\", \"original\", \"say\", \"exchange\", \"kit\", \"ok\", \"indicate\", \"several\", \"inform\", \"very\", \"service\", \"want\", \"take\", \"pay\", \"know\", \"photo\", \"company\", \"freight\", \"color\", \"satisfy\", \"today\", \"never\", \"black\", \"part\", \"look\", \"however\", \"really_enjoy\", \"expensive\", \"sale\", \"good\", \"be\", \"satisfied\", \"always\", \"price\", \"expectation\", \"small\", \"clock\", \"sell\", \"supplier\", \"meet\", \"worth\", \"fulfil\", \"big\", \"advertisement\", \"morning\", \"choose\", \"again\", \"bit\", \"specification\", \"time\", \"excellent\", \"like\", \"congratulation\", \"bad\", \"seller\", \"really\", \"lot\", \"test\", \"forecast\", \"other\", \"speed\", \"combine\", \"plan\", \"finish\", \"believe\", \"congratulate\", \"low\", \"question\", \"absurd\", \"store\", \"send\", \"wait\", \"think\", \"await\", \"happen\", \"customer\", \"announce\", \"so_far\", \"information\", \"open\", \"response\", \"support\", \"plastic\", \"partner\", \"cartridge\", \"complaint\", \"half\", \"lack\", \"afternoon\", \"quality\", \"right\", \"site\", \"date\", \"package\", \"correct\", \"material\", \"unit\", \"all\", \"cover\", \"only\", \"seem\", \"poor\", \"efficient\", \"image\", \"second\", \"status\", \"please\", \"brand\", \"loose\", \"still\", \"work\", \"box\", \"pack\", \"note\", \"packaging\", \"leave\", \"quickly\", \"change\", \"also\", \"more\", \"shop\", \"size\", \"break\", \"complain\", \"perfectly\", \"stock\", \"piece\", \"luminaire\", \"care\", \"love\", \"beautiful\", \"thank\", \"ask\", \"answer\", \"much\", \"find\", \"curtain\", \"happy\", \"top\", \"model\", \"equal\", \"fabric\", \"safe\", \"internet\", \"son\", \"get_touch\", \"strike\", \"room\", \"estimate\"], \"Freq\": [20108.0, 6424.0, 6220.0, 3350.0, 4758.0, 2803.0, 6722.0, 6328.0, 2470.0, 2774.0, 2442.0, 5415.0, 2106.0, 4881.0, 4782.0, 1732.0, 4671.0, 1818.0, 2538.0, 1643.0, 20108.00028231212, 6722.009594401325, 6327.416021258958, 5414.396928694031, 4880.764789435237, 4781.230709317773, 4670.296249979808, 3004.5796098365295, 2815.6822905278927, 2352.7122090857265, 1832.1566157440436, 1317.9199117225814, 994.390260055518, 466.9290680980604, 460.1825480959489, 438.63738612517636, 412.69818242009956, 377.8510858672835, 369.7554365564325, 337.22678978737525, 6219.9552174595065, 4757.8021417475975, 2537.486495940832, 1554.3810265939417, 1541.8620819985133, 1182.5697467955597, 1179.8668922579197, 1090.6500587994026, 785.0150445977029, 778.94726460357, 607.4093829007018, 571.397786258444, 541.3493754577127, 464.78801789306397, 437.90013481548846, 344.1217743603751, 321.48573210767364, 296.8825352430476, 277.4761021485121, 258.7022154700774, 1678.9361791436884, 1187.9984153509179, 1123.861132233448, 1067.9772262200484, 1015.7769050872721, 837.516705205301, 760.1212085406419, 723.2038512585672, 692.724957327238, 622.7060608132324, 572.6142418123546, 525.0419569820913, 474.8481485274993, 434.7148622835224, 379.7331163421625, 335.9153728026831, 296.85042089341675, 286.46571346811373, 254.30553066243, 248.90291457804284, 2773.6811221059643, 939.0135614593362, 904.067510554165, 740.4582135299862, 716.7433541527514, 710.1115617664668, 642.0345176442487, 579.7766069434152, 547.0632425694258, 540.5898649813652, 513.903124597809, 348.9808269543591, 338.44732432942885, 311.8038049324879, 311.3510287383648, 281.38538544788054, 263.93426882155586, 231.84980895901805, 208.49813266085621, 208.07282174425006, 6423.973165124749, 2105.4316934299154, 924.8676876182988, 921.8070461364382, 583.165479725705, 366.81822215022044, 330.8517116638975, 310.78177082778234, 202.09946901793182, 175.03664827388312, 174.4048547525607, 169.79717873156292, 165.3919801444299, 153.2121917807629, 142.28481805486234, 131.30276227781258, 129.10281418994916, 125.47914623497468, 108.81452602667613, 107.96175637704799, 3349.671985862347, 2441.6099826622994, 1817.4926636569194, 750.9435425248696, 517.0483999396256, 515.0942917548656, 513.533147171295, 391.08145142491736, 289.1315663775748, 262.3975370568171, 226.28608961349346, 215.59023461183355, 210.32368004293085, 205.83368881923377, 203.08595393902493, 156.8803697719971, 156.87368337012066, 148.44600929590686, 142.7855069800839, 141.6514526981892, 2469.6369286239023, 1190.5427881054986, 1138.4065438273294, 595.1467810949327, 332.889725008364, 316.95833154135767, 285.62785395232385, 282.9060559969579, 266.72784341840816, 241.4501536022449, 237.42995244730233, 216.19056890224016, 214.598995330335, 214.34285999397213, 213.99883574421867, 207.21001212512982, 174.50641223876607, 170.28186259950465, 165.71712877993633, 163.1164687899652, 2802.185325904868, 1642.7995529291886, 888.0806784805642, 834.5399292658384, 544.2719285089217, 460.27151768376586, 449.56677791507707, 399.74778891054154, 373.6606433475607, 286.5308952125726, 264.604944428729, 243.85203335518364, 225.7171551241809, 218.19114707425007, 178.3354779435479, 174.0806611257355, 139.88758821807252, 134.15110705281177, 130.29368013839894, 123.16064439567191, 1028.7052406735736, 695.6477671122279, 561.4009931118494, 373.266221162353, 366.02245103023387, 278.20447029335884, 249.85220576506538, 226.57202750202592, 220.24305087954824, 210.01969996662584, 209.68973995138452, 199.72611725055742, 195.5758754165906, 193.5410256652031, 191.78264139565337, 180.9667934456241, 172.0633750647704, 170.09398329580816, 165.48594014594258, 163.11374424991774, 1731.465382837297, 1462.4901508578887, 1196.941145851167, 614.2429851559565, 535.921434107121, 497.2973907168275, 490.0205883560288, 286.05616762382385, 195.31239426496757, 185.72112998794267, 183.26102085667986, 148.06034924992898, 145.2133891302482, 143.04800499852436, 115.12915133198085, 111.8757447242443, 108.27820640292349, 107.75953903965647, 91.59147141631908, 79.21945918154758], \"Total\": [20108.0, 6424.0, 6220.0, 3350.0, 4758.0, 2803.0, 6722.0, 6328.0, 2470.0, 2774.0, 2442.0, 5415.0, 2106.0, 4881.0, 4782.0, 1732.0, 4671.0, 1818.0, 2538.0, 1643.0, 20108.92881251707, 6722.93811528742, 6328.344524579125, 5415.325458649873, 4881.693312432705, 4782.159254219747, 4671.224756529107, 3005.50810477179, 2816.6107831085938, 2353.640730969241, 1833.0851243679135, 1318.8484174159048, 995.3187736670163, 467.85760761794614, 461.1111090394271, 439.56596107343023, 413.62669536757204, 378.7795993934986, 370.6840703584775, 338.1553295399738, 6220.88378167964, 4758.730730871597, 2538.4150703924374, 1555.3095936189907, 1542.7906470468743, 1183.4982859864276, 1180.7954567461468, 1091.5786320789312, 785.9436214876428, 779.8758502937959, 608.3380007145754, 572.3264010859027, 542.2779543875432, 465.71658486420915, 438.8286879606499, 345.05031509432996, 322.41426983930666, 297.8110661585269, 278.4047077958135, 259.6308032321156, 1679.8618146560666, 1188.9240614421494, 1124.7867674364495, 1068.9028850546892, 1016.7025680996321, 838.4423543211483, 761.0468236550095, 724.129459046613, 693.6505907753062, 623.6317344157573, 573.5398856354351, 525.9675752685961, 475.77379210883566, 435.64048185749704, 380.65871073055257, 336.8409890741385, 297.77603174505595, 287.3913935665075, 255.2311704189652, 249.82850847875594, 2774.606572176369, 939.9390275437437, 904.9929363151986, 741.3836128730148, 717.6687629334469, 711.0370071506064, 642.959970219131, 580.7020549628105, 547.9886268041126, 541.515273081512, 514.8285861170236, 349.90629687270314, 339.37278309075225, 312.7292429883055, 312.2765180495461, 282.31083829397096, 264.8597668272709, 232.77528739065798, 209.42353645513055, 208.99848960782802, 6424.9031891130235, 2106.36173004323, 925.7977239443195, 922.7370536566949, 584.0955030685292, 367.74824784135484, 331.7817101494482, 311.7117958197404, 203.0295842363916, 175.96667697775112, 175.33487972358938, 170.72716902996376, 166.32202478109278, 154.14217468862665, 143.21482492848736, 132.2328685262955, 130.03294625822522, 126.40918505669347, 109.74461404930541, 108.89180971440021, 3350.596328010919, 2442.5343134998943, 1818.4169749371436, 751.8678788211415, 517.9728005037435, 516.0186164080814, 514.4574367855531, 392.0057824223383, 290.05590551990815, 263.3219745876607, 227.21050731457913, 216.51458023555426, 211.24800319000477, 206.7580037879434, 204.01034535176493, 157.8047493787764, 157.79803760570678, 149.37033203477685, 143.7102305202536, 142.57593402552473, 2470.5659224741785, 1191.4717997489001, 1139.335584469969, 596.0757927710298, 333.81879369207087, 317.88737894476515, 286.55682355674867, 283.83505686776545, 267.6569188045375, 242.3791542227595, 238.35902255451282, 217.1195970382025, 215.5281155191905, 215.27191080972398, 214.9277991387336, 208.13898872710422, 175.4354041379645, 171.2109275364514, 166.64612489426003, 164.04567055477972, 2803.107967347938, 1643.722189214419, 889.003353554559, 835.4625761919401, 545.1945526516547, 461.19412570642544, 450.4894096969832, 400.6704192677383, 374.5832361363855, 287.45351856928875, 265.52757286369825, 244.77472455513745, 226.63978224261422, 219.11383702229534, 179.25812392094977, 175.00335629846484, 140.81025398006548, 135.07387117813286, 131.21628332053788, 124.08339879249797, 1029.6329068865637, 696.5754133240874, 562.3285972114035, 374.1938908667489, 366.95007052147116, 279.13207781196024, 250.7798753272265, 227.49972895683027, 221.17066318427672, 210.94739919543957, 210.61751185499858, 200.65380256309683, 196.50349360222873, 194.46862484862214, 192.71029403505713, 181.8944875368569, 172.9910805442989, 171.02157025301813, 166.4136528474323, 164.04149796798092, 1732.401567042901, 1463.426329227827, 1197.8773660602728, 615.1792139972597, 536.8576311155875, 498.23356680878663, 490.9568104075812, 286.9923447452164, 196.24859667164375, 186.6573175365642, 184.19725288732016, 148.99653673946574, 146.14960739841544, 143.98450303742894, 116.06540748095078, 112.81199065360835, 109.21446740744351, 108.69582536259897, 92.52777016769207, 80.15569481128242], \"Category\": [\"Default\", \"Default\", \"Default\", \"Default\", \"Default\", \"Default\", \"Default\", \"Default\", \"Default\", \"Default\", \"Default\", \"Default\", \"Default\", \"Default\", \"Default\", \"Default\", \"Default\", \"Default\", \"Default\", \"Default\", \"Topic1\", \"Topic1\", \"Topic1\", \"Topic1\", \"Topic1\", \"Topic1\", \"Topic1\", \"Topic1\", \"Topic1\", \"Topic1\", \"Topic1\", \"Topic1\", \"Topic1\", \"Topic1\", \"Topic1\", \"Topic1\", \"Topic1\", \"Topic1\", \"Topic1\", \"Topic1\", \"Topic2\", \"Topic2\", \"Topic2\", \"Topic2\", \"Topic2\", \"Topic2\", \"Topic2\", \"Topic2\", \"Topic2\", \"Topic2\", \"Topic2\", \"Topic2\", \"Topic2\", \"Topic2\", \"Topic2\", \"Topic2\", \"Topic2\", \"Topic2\", \"Topic2\", \"Topic2\", \"Topic3\", \"Topic3\", \"Topic3\", \"Topic3\", \"Topic3\", \"Topic3\", \"Topic3\", \"Topic3\", \"Topic3\", \"Topic3\", \"Topic3\", \"Topic3\", \"Topic3\", \"Topic3\", \"Topic3\", \"Topic3\", \"Topic3\", \"Topic3\", \"Topic3\", \"Topic3\", \"Topic4\", \"Topic4\", \"Topic4\", \"Topic4\", \"Topic4\", \"Topic4\", \"Topic4\", \"Topic4\", \"Topic4\", \"Topic4\", \"Topic4\", \"Topic4\", \"Topic4\", \"Topic4\", \"Topic4\", \"Topic4\", \"Topic4\", \"Topic4\", \"Topic4\", \"Topic4\", \"Topic5\", \"Topic5\", \"Topic5\", \"Topic5\", \"Topic5\", \"Topic5\", \"Topic5\", \"Topic5\", \"Topic5\", \"Topic5\", \"Topic5\", \"Topic5\", \"Topic5\", \"Topic5\", \"Topic5\", \"Topic5\", \"Topic5\", \"Topic5\", \"Topic5\", \"Topic5\", \"Topic6\", \"Topic6\", \"Topic6\", \"Topic6\", \"Topic6\", \"Topic6\", \"Topic6\", \"Topic6\", \"Topic6\", \"Topic6\", \"Topic6\", \"Topic6\", \"Topic6\", \"Topic6\", \"Topic6\", \"Topic6\", \"Topic6\", \"Topic6\", \"Topic6\", \"Topic6\", \"Topic7\", \"Topic7\", \"Topic7\", \"Topic7\", \"Topic7\", \"Topic7\", \"Topic7\", \"Topic7\", \"Topic7\", \"Topic7\", \"Topic7\", \"Topic7\", \"Topic7\", \"Topic7\", \"Topic7\", \"Topic7\", \"Topic7\", \"Topic7\", \"Topic7\", \"Topic7\", \"Topic8\", \"Topic8\", \"Topic8\", \"Topic8\", \"Topic8\", \"Topic8\", \"Topic8\", \"Topic8\", \"Topic8\", \"Topic8\", \"Topic8\", \"Topic8\", \"Topic8\", \"Topic8\", \"Topic8\", \"Topic8\", \"Topic8\", \"Topic8\", \"Topic8\", \"Topic8\", \"Topic9\", \"Topic9\", \"Topic9\", \"Topic9\", \"Topic9\", \"Topic9\", \"Topic9\", \"Topic9\", \"Topic9\", \"Topic9\", \"Topic9\", \"Topic9\", \"Topic9\", \"Topic9\", \"Topic9\", \"Topic9\", \"Topic9\", \"Topic9\", \"Topic9\", \"Topic9\", \"Topic10\", \"Topic10\", \"Topic10\", \"Topic10\", \"Topic10\", \"Topic10\", \"Topic10\", \"Topic10\", \"Topic10\", \"Topic10\", \"Topic10\", \"Topic10\", \"Topic10\", \"Topic10\", \"Topic10\", \"Topic10\", \"Topic10\", \"Topic10\", \"Topic10\", \"Topic10\"], \"logprob\": [20.0, 19.0, 18.0, 17.0, 16.0, 15.0, 14.0, 13.0, 12.0, 11.0, 10.0, 9.0, 8.0, 7.0, 6.0, 5.0, 4.0, 3.0, 2.0, 1.0, -1.3576, -2.4533, -2.5138, -2.6696, -2.7734, -2.794, -2.8175, -3.2586, -3.3235, -3.5031, -3.7532, -4.0826, -4.3643, -5.1203, -5.1348, -5.1828, -5.2437, -5.332, -5.3536, -5.4457, -1.7905, -2.0585, -2.6871, -3.1772, -3.1853, -3.4506, -3.4529, -3.5315, -3.8604, -3.8681, -4.1169, -4.178, -4.232, -4.3845, -4.4441, -4.6851, -4.7531, -4.8327, -4.9003, -4.9704, -2.5866, -2.9325, -2.988, -3.039, -3.0891, -3.2821, -3.379, -3.4288, -3.4719, -3.5784, -3.6623, -3.749, -3.8495, -3.9378, -4.073, -4.1956, -4.3193, -4.3549, -4.474, -4.4954, -1.9766, -3.0597, -3.0976, -3.2973, -3.3298, -3.3391, -3.4399, -3.5419, -3.6, -3.6119, -3.6625, -4.0495, -4.0802, -4.1622, -4.1636, -4.2648, -4.3288, -4.4584, -4.5646, -4.5666, -0.9149, -2.0304, -2.8531, -2.8564, -3.3142, -3.7778, -3.881, -3.9436, -4.3739, -4.5177, -4.5213, -4.5481, -4.5744, -4.6509, -4.7249, -4.8052, -4.8221, -4.8506, -4.9931, -5.0009, -1.5346, -1.8508, -2.146, -3.0298, -3.403, -3.4068, -3.4099, -3.6823, -3.9843, -4.0813, -4.2294, -4.2778, -4.3025, -4.3241, -4.3375, -4.5957, -4.5957, -4.6509, -4.6898, -4.6978, -1.7713, -2.501, -2.5458, -3.1944, -3.7754, -3.8244, -3.9285, -3.9381, -3.9969, -4.0965, -4.1133, -4.207, -4.2144, -4.2156, -4.2172, -4.2494, -4.4212, -4.4457, -4.4729, -4.4887, -1.5993, -2.1333, -2.7484, -2.8106, -3.238, -3.4056, -3.4292, -3.5466, -3.6141, -3.8796, -3.9592, -4.0409, -4.1182, -4.1521, -4.3538, -4.3779, -4.5966, -4.6385, -4.6677, -4.724, -2.4903, -2.8815, -3.0959, -3.5041, -3.5237, -3.798, -3.9055, -4.0033, -4.0316, -4.0792, -4.0807, -4.1294, -4.1504, -4.1609, -4.17, -4.228, -4.2785, -4.29, -4.3175, -4.3319, -1.9069, -2.0757, -2.2761, -2.9433, -3.0797, -3.1545, -3.1692, -3.7075, -4.089, -4.1394, -4.1527, -4.366, -4.3854, -4.4005, -4.6176, -4.6463, -4.6789, -4.6837, -4.8463, -4.9914], \"loglift\": [20.0, 19.0, 18.0, 17.0, 16.0, 15.0, 14.0, 13.0, 12.0, 11.0, 10.0, 9.0, 8.0, 7.0, 6.0, 5.0, 4.0, 3.0, 2.0, 1.0, 1.1293, 1.1292, 1.1292, 1.1292, 1.1292, 1.1292, 1.1292, 1.129, 1.129, 1.129, 1.1289, 1.1287, 1.1284, 1.1274, 1.1273, 1.1272, 1.1271, 1.1269, 1.1268, 1.1266, 1.8696, 1.8696, 1.8694, 1.8692, 1.8692, 1.869, 1.869, 1.8689, 1.8686, 1.8686, 1.8682, 1.8681, 1.868, 1.8678, 1.8676, 1.8671, 1.8669, 1.8666, 1.8664, 1.8662, 2.3828, 2.3825, 2.3825, 2.3824, 2.3824, 2.3822, 2.3821, 2.382, 2.382, 2.3818, 2.3817, 2.3816, 2.3814, 2.3812, 2.3809, 2.3806, 2.3802, 2.3801, 2.3797, 2.3796, 2.491, 2.4903, 2.4903, 2.49, 2.49, 2.49, 2.4898, 2.4897, 2.4896, 2.4896, 2.4895, 2.4886, 2.4886, 2.4883, 2.4883, 2.488, 2.4878, 2.4873, 2.4869, 2.4869, 2.713, 2.7127, 2.7121, 2.7121, 2.7115, 2.7106, 2.7103, 2.7101, 2.7085, 2.7078, 2.7078, 2.7077, 2.7075, 2.7071, 2.7066, 2.7061, 2.7059, 2.7057, 2.7046, 2.7045, 2.7444, 2.7443, 2.7441, 2.7434, 2.7429, 2.7429, 2.7428, 2.7423, 2.7415, 2.7411, 2.7406, 2.7404, 2.7403, 2.7402, 2.7401, 2.7388, 2.7388, 2.7384, 2.7382, 2.7381, 2.8123, 2.8119, 2.8118, 2.8111, 2.8099, 2.8097, 2.8094, 2.8094, 2.8092, 2.8088, 2.8087, 2.8084, 2.8083, 2.8083, 2.8083, 2.8082, 2.8073, 2.8072, 2.807, 2.807, 2.858, 2.8578, 2.8573, 2.8573, 2.8567, 2.8564, 2.8563, 2.8561, 2.8559, 2.8552, 2.8549, 2.8546, 2.8543, 2.8542, 2.8532, 2.8531, 2.8518, 2.8515, 2.8513, 2.8509, 2.9686, 2.9681, 2.9678, 2.967, 2.9669, 2.9661, 2.9658, 2.9654, 2.9653, 2.965, 2.965, 2.9648, 2.9647, 2.9647, 2.9646, 2.9643, 2.9641, 2.964, 2.9639, 2.9638, 3.0316, 3.0315, 3.0314, 3.0306, 3.0304, 3.0303, 3.0303, 3.0289, 3.0274, 3.0271, 3.0271, 3.0259, 3.0257, 3.0256, 3.0241, 3.0238, 3.0236, 3.0235, 3.022, 3.0204]}, \"token.table\": {\"Topic\": [6, 1, 5, 7, 5, 8, 3, 9, 5, 7, 10, 1, 10, 7, 6, 5, 10, 6, 5, 5, 4, 9, 8, 9, 2, 2, 9, 7, 9, 5, 5, 4, 6, 1, 4, 9, 7, 1, 6, 6, 2, 8, 1, 8, 10, 7, 8, 2, 1, 3, 1, 1, 3, 2, 8, 2, 10, 10, 3, 6, 3, 3, 5, 4, 10, 2, 1, 10, 6, 2, 6, 4, 5, 3, 10, 3, 1, 5, 1, 7, 7, 10, 2, 4, 8, 3, 3, 7, 10, 2, 3, 4, 7, 9, 6, 1, 3, 4, 8, 6, 10, 6, 9, 2, 2, 8, 5, 1, 2, 10, 9, 5, 10, 2, 4, 9, 3, 8, 7, 3, 3, 6, 9, 8, 9, 4, 7, 4, 1, 9, 4, 9, 6, 7, 8, 8, 5, 3, 1, 2, 8, 6, 9, 1, 6, 4, 2, 1, 2, 7, 2, 8, 10, 10, 4, 2, 5, 4, 3, 8, 8, 5, 6, 7, 4, 3, 9, 8, 9, 5, 7, 10, 5, 6, 8, 9, 9, 7, 10, 1, 5, 7, 4, 6, 10, 7, 6, 4, 10, 8, 3, 1, 4, 7, 4, 1, 9, 5, 3, 2], \"Freq\": [0.9959605102399566, 0.9981669473703494, 0.9915174638582704, 0.9936257351306901, 0.988852194118161, 0.9984429732029622, 0.9992227750517316, 0.9955088368045637, 0.9992012311050326, 0.9970579502159436, 0.9984024980443971, 0.999857977060759, 0.9980831374493336, 0.9975471911481828, 0.998121908133405, 0.9993535155791108, 0.9990253494833733, 0.9949003475374194, 0.9925901221328044, 0.9932150287669619, 0.9976681330427012, 0.9976373294582704, 0.9907306982810455, 0.9975902290203013, 0.9998464441648575, 0.9981115911894889, 0.9936510091599858, 0.9945277492983423, 0.9947069689649511, 0.9920562727527995, 0.9977164937955956, 0.999048460667453, 0.9940922367494178, 0.9997575877008438, 0.9987910238016026, 0.9963141873732603, 0.997518151252856, 0.9986750238195974, 0.9949426645741891, 0.9988457030209852, 0.9976433591349172, 0.9974107959319812, 0.9965834353652047, 0.9984222890311241, 0.9965422605745898, 0.9980568476791536, 0.9994463232643542, 0.9994875214933486, 0.999787539288687, 0.9990620770976651, 0.9997552393369532, 0.9998604605201873, 0.998987007265836, 0.9984613284398749, 0.9949166285551286, 0.9969560523541535, 0.9933116785042576, 0.9855818751992186, 0.998160389890761, 0.9997812462666579, 0.9982695503557809, 0.9994869728875627, 0.9979653258832721, 0.9932025956622333, 0.9921340370399934, 0.998799377637474, 0.999783149623563, 0.9980511312048266, 0.9950475778567854, 0.9972765748130556, 0.9949796267868233, 0.9981958990465215, 0.9920514148211412, 0.9991553161027878, 0.9888799768357361, 0.9993089738123261, 0.9984848768839373, 0.9998594237008032, 0.9998309421388739, 0.9929272765828945, 0.9972085115561655, 0.9936376784709811, 0.997570383697686, 0.9967538790901692, 0.9929814956587151, 0.9951585412867088, 0.9966836912096187, 0.9943099305417495, 0.9908206286086951, 0.9956135011021332, 0.997503305412889, 0.9985415567119887, 0.9961227727637231, 0.9968901997171468, 0.9992207645679327, 0.9975903659277658, 0.9986244950737959, 0.9953567553343241, 0.9912687853247015, 0.9974342663617786, 0.9991909687282877, 0.9908259423668028, 0.9915051870850504, 0.997800563645533, 0.9995789719407897, 0.9989136044345361, 0.9923866846933492, 0.9987124547313715, 0.9976824394552024, 0.9935001588321594, 0.9970680887379217, 0.9906765349641466, 0.9975241194271841, 0.998876936254064, 0.9959549405280825, 0.9974108997441504, 0.9973939079632831, 0.9980131145778632, 0.9942984220192378, 0.9984402525922643, 0.9983736134237116, 0.9946723092655959, 0.9968094325003984, 0.9978089424301018, 0.9959442933938861, 0.9959122188965116, 0.9956832055115648, 0.9990681454063663, 0.9993566983099035, 0.9950823823801936, 0.9985069518110065, 0.9940266584413489, 0.9963338600003082, 0.9940916081204473, 0.992049749009439, 0.9971770964643385, 0.9981244452957196, 0.9993005185878541, 0.9999538109401186, 0.9994425378225403, 0.9996047361140404, 0.995057898677899, 0.997803386583704, 0.9979418126141247, 0.9991108364796683, 0.996669374144701, 0.9998579330991132, 0.9997378082637973, 0.999157985249777, 0.9948434086398682, 0.9994699126000395, 0.9995606379112251, 0.9942960889824151, 0.993162437507785, 0.9952225032357812, 0.9949544395030714, 0.9991383388361328, 0.9983905592281247, 0.9985297926061276, 0.9942666453964824, 0.9968349487205206, 0.9949288955091745, 0.9980260084119217, 0.9996040193741895, 0.9990009697265178, 0.9951762536803627, 0.9967416388090067, 0.9988713725875755, 0.9974377371465571, 0.9976439022238565, 0.997545668509256, 0.9928022664177465, 0.9918101304704253, 0.9976233460351981, 0.9942457743156958, 0.9993853082177827, 0.9942709153490424, 0.9997709340726226, 0.9935984168639618, 0.9994080338367878, 0.9945064770537586, 0.9975496676249486, 0.9981337423042667, 0.9963596482615463, 0.9992675660421246, 0.998195208085823, 0.9998220233198688, 0.997409886930292, 0.9964784796800938, 0.9983267562677486, 0.9994724093804798, 0.9981545730901897, 0.9997813844375446, 0.9988277514648238, 0.998902824237235, 0.9997277702748724, 0.9991739396581032, 0.9957407538935051, 0.9990586781338896, 0.9993263382395299], \"Term\": [\"absurd\", \"accord\", \"advertisement\", \"afternoon\", \"again\", \"all\", \"already\", \"also\", \"always\", \"announce\", \"answer\", \"arrive\", \"ask\", \"await\", \"bad\", \"be\", \"beautiful\", \"believe\", \"big\", \"bit\", \"black\", \"box\", \"brand\", \"break\", \"buy\", \"cancel\", \"care\", \"cartridge\", \"change\", \"choose\", \"clock\", \"color\", \"combine\", \"come\", \"company\", \"complain\", \"complaint\", \"condition\", \"congratulate\", \"congratulation\", \"contact\", \"correct\", \"correctly\", \"cover\", \"curtain\", \"customer\", \"date\", \"day\", \"deadline\", \"delay\", \"deliver\", \"delivery\", \"different\", \"do\", \"efficient\", \"email\", \"equal\", \"estimate\", \"even\", \"excellent\", \"exchange\", \"expect\", \"expectation\", \"expensive\", \"fabric\", \"far\", \"fast\", \"find\", \"finish\", \"first\", \"forecast\", \"freight\", \"fulfil\", \"get\", \"get_touch\", \"give\", \"go\", \"good\", \"great\", \"half\", \"happen\", \"happy\", \"hope\", \"however\", \"image\", \"indicate\", \"inform\", \"information\", \"internet\", \"invoice\", \"kit\", \"know\", \"lack\", \"leave\", \"like\", \"little\", \"long\", \"look\", \"loose\", \"lot\", \"love\", \"low\", \"luminaire\", \"mail\", \"make\", \"material\", \"meet\", \"merchandise\", \"miss\", \"model\", \"more\", \"morning\", \"much\", \"need\", \"never\", \"note\", \"ok\", \"only\", \"open\", \"order\", \"original\", \"other\", \"pack\", \"package\", \"packaging\", \"part\", \"partner\", \"pay\", \"perfect\", \"perfectly\", \"photo\", \"piece\", \"plan\", \"plastic\", \"please\", \"poor\", \"price\", \"problem\", \"product\", \"purchase\", \"quality\", \"question\", \"quickly\", \"reach\", \"really\", \"really_enjoy\", \"receive\", \"recommend\", \"request\", \"response\", \"return\", \"right\", \"room\", \"safe\", \"sale\", \"satisfaction\", \"satisfied\", \"satisfy\", \"say\", \"second\", \"seem\", \"sell\", \"seller\", \"send\", \"service\", \"several\", \"shop\", \"site\", \"size\", \"small\", \"so_far\", \"son\", \"specification\", \"speed\", \"status\", \"still\", \"stock\", \"store\", \"strike\", \"super\", \"supplier\", \"support\", \"take\", \"test\", \"thank\", \"think\", \"time\", \"today\", \"top\", \"unit\", \"use\", \"value\", \"very\", \"wait\", \"want\", \"well\", \"work\", \"worth\", \"wrong\", \"yet\"]}, \"R\": 20, \"lambda.step\": 0.01, \"plot.opts\": {\"xlab\": \"PC1\", \"ylab\": \"PC2\"}, \"topic.order\": [9, 6, 10, 2, 7, 8, 4, 5, 1, 3]};\n",
       "\n",
       "function LDAvis_load_lib(url, callback){\n",
       "  var s = document.createElement('script');\n",
       "  s.src = url;\n",
       "  s.async = true;\n",
       "  s.onreadystatechange = s.onload = callback;\n",
       "  s.onerror = function(){console.warn(\"failed to load library \" + url);};\n",
       "  document.getElementsByTagName(\"head\")[0].appendChild(s);\n",
       "}\n",
       "\n",
       "if(typeof(LDAvis) !== \"undefined\"){\n",
       "   // already loaded: just create the visualization\n",
       "   !function(LDAvis){\n",
       "       new LDAvis(\"#\" + \"ldavis_el2164416829012411842816262468\", ldavis_el2164416829012411842816262468_data);\n",
       "   }(LDAvis);\n",
       "}else if(typeof define === \"function\" && define.amd){\n",
       "   // require.js is available: use it to load d3/LDAvis\n",
       "   require.config({paths: {d3: \"https://d3js.org/d3.v5\"}});\n",
       "   require([\"d3\"], function(d3){\n",
       "      window.d3 = d3;\n",
       "      LDAvis_load_lib(\"https://cdn.jsdelivr.net/gh/bmabey/pyLDAvis@3.3.1/pyLDAvis/js/ldavis.v3.0.0.js\", function(){\n",
       "        new LDAvis(\"#\" + \"ldavis_el2164416829012411842816262468\", ldavis_el2164416829012411842816262468_data);\n",
       "      });\n",
       "    });\n",
       "}else{\n",
       "    // require.js not available: dynamically load d3 & LDAvis\n",
       "    LDAvis_load_lib(\"https://d3js.org/d3.v5.js\", function(){\n",
       "         LDAvis_load_lib(\"https://cdn.jsdelivr.net/gh/bmabey/pyLDAvis@3.3.1/pyLDAvis/js/ldavis.v3.0.0.js\", function(){\n",
       "                 new LDAvis(\"#\" + \"ldavis_el2164416829012411842816262468\", ldavis_el2164416829012411842816262468_data);\n",
       "            })\n",
       "         });\n",
       "}\n",
       "</script>"
      ],
      "text/plain": [
       "PreparedData(topic_coordinates=              x         y  topics  cluster       Freq\n",
       "topic                                                \n",
       "8      0.404265  0.259673       1        1  32.324075\n",
       "5      0.116432  0.437358       2        1  15.416060\n",
       "9     -0.345354 -0.260121       3        1   9.224416\n",
       "1     -0.256533  0.403994       4        1   8.280306\n",
       "6      0.191458 -0.426201       5        1   6.633003\n",
       "7     -0.158537  0.149579       6        1   6.427108\n",
       "3     -0.104379 -0.399688       7        1   6.004625\n",
       "4     -0.460261  0.020602       8        1   5.736210\n",
       "0      0.168979 -0.059033       9        1   5.133117\n",
       "2      0.443930 -0.126162      10        1   4.821079, topic_info=           Term          Freq         Total Category  logprob  loglift\n",
       "26      product  20108.000000  20108.000000  Default  20.0000  20.0000\n",
       "22         good   6424.000000   6424.000000  Default  19.0000  19.0000\n",
       "1       receive   6220.000000   6220.000000  Default  18.0000  18.0000\n",
       "29         time   3350.000000   3350.000000  Default  17.0000  17.0000\n",
       "4           buy   4758.000000   4758.000000  Default  16.0000  16.0000\n",
       "...         ...           ...           ...      ...      ...      ...\n",
       "110         son    111.875745    112.811991  Topic10  -4.6463   3.0238\n",
       "905   get_touch    108.278206    109.214467  Topic10  -4.6789   3.0236\n",
       "1356     strike    107.759539    108.695825  Topic10  -4.6837   3.0235\n",
       "733        room     91.591471     92.527770  Topic10  -4.8463   3.0220\n",
       "675    estimate     79.219459     80.155695  Topic10  -4.9914   3.0204\n",
       "\n",
       "[220 rows x 6 columns], token_table=      Topic      Freq           Term\n",
       "term                                \n",
       "1093      6  0.995961         absurd\n",
       "156       1  0.998167         accord\n",
       "184       5  0.991517  advertisement\n",
       "862       7  0.993626      afternoon\n",
       "377       5  0.988852          again\n",
       "...     ...       ...            ...\n",
       "3         1  0.999728           well\n",
       "170       9  0.999174           work\n",
       "585       5  0.995741          worth\n",
       "719       3  0.999059          wrong\n",
       "62        2  0.999326            yet\n",
       "\n",
       "[200 rows x 3 columns], R=20, lambda_step=0.01, plot_opts={'xlab': 'PC1', 'ylab': 'PC2'}, topic_order=[9, 6, 10, 2, 7, 8, 4, 5, 1, 3])"
      ]
     },
     "execution_count": 11,
     "metadata": {},
     "output_type": "execute_result"
    }
   ],
   "source": [
    "pyLDAvis.enable_notebook()\n",
    "vis = pyLDAvis.gensim_models.prepare(lda_model,corpus,id2word,mds=\"mmds\",R=20)\n",
    "vis"
   ]
  },
  {
   "cell_type": "markdown",
   "id": "8eaeedee",
   "metadata": {},
   "source": [
    "The code below was an exploration into using the model for practical classification, but there are limitations in conclusively labelling categories"
   ]
  },
  {
   "cell_type": "code",
   "execution_count": 12,
   "id": "476c56dc",
   "metadata": {},
   "outputs": [
    {
     "name": "stderr",
     "output_type": "stream",
     "text": [
      "C:\\Users\\david\\anaconda3\\lib\\site-packages\\ipykernel\\ipkernel.py:287: DeprecationWarning: `should_run_async` will not call `transform_cell` automatically in the future. Please pass the result to `transformed_cell` argument and any exception that happen during thetransform in `preprocessing_exc_tuple` in IPython 7.17 and above.\n",
      "  and should_run_async(code)\n"
     ]
    },
    {
     "data": {
      "text/html": [
       "<div>\n",
       "<style scoped>\n",
       "    .dataframe tbody tr th:only-of-type {\n",
       "        vertical-align: middle;\n",
       "    }\n",
       "\n",
       "    .dataframe tbody tr th {\n",
       "        vertical-align: top;\n",
       "    }\n",
       "\n",
       "    .dataframe thead th {\n",
       "        text-align: right;\n",
       "    }\n",
       "</style>\n",
       "<table border=\"1\" class=\"dataframe\">\n",
       "  <thead>\n",
       "    <tr style=\"text-align: right;\">\n",
       "      <th></th>\n",
       "      <th>Document_No</th>\n",
       "      <th>Dominant_Topic</th>\n",
       "      <th>Topic_Perc_Contrib</th>\n",
       "      <th>Keywords</th>\n",
       "      <th>Text</th>\n",
       "    </tr>\n",
       "  </thead>\n",
       "  <tbody>\n",
       "    <tr>\n",
       "      <th>0</th>\n",
       "      <td>0</td>\n",
       "      <td>8.0</td>\n",
       "      <td>0.3589</td>\n",
       "      <td>product, delivery, deadline, deliver, arrive, ...</td>\n",
       "      <td>NaN</td>\n",
       "    </tr>\n",
       "    <tr>\n",
       "      <th>1</th>\n",
       "      <td>1</td>\n",
       "      <td>8.0</td>\n",
       "      <td>0.2532</td>\n",
       "      <td>product, delivery, deadline, deliver, arrive, ...</td>\n",
       "      <td>NaN</td>\n",
       "    </tr>\n",
       "    <tr>\n",
       "      <th>2</th>\n",
       "      <td>2</td>\n",
       "      <td>4.0</td>\n",
       "      <td>0.3011</td>\n",
       "      <td>quality, right, site, date, package, correct, ...</td>\n",
       "      <td>NaN</td>\n",
       "    </tr>\n",
       "    <tr>\n",
       "      <th>3</th>\n",
       "      <td>3</td>\n",
       "      <td>8.0</td>\n",
       "      <td>0.3589</td>\n",
       "      <td>product, delivery, deadline, deliver, arrive, ...</td>\n",
       "      <td>I received well stipulated deadline.</td>\n",
       "    </tr>\n",
       "    <tr>\n",
       "      <th>4</th>\n",
       "      <td>4</td>\n",
       "      <td>8.0</td>\n",
       "      <td>0.3456</td>\n",
       "      <td>product, delivery, deadline, deliver, arrive, ...</td>\n",
       "      <td>Congratulations LANNISTER stores I loved buy i...</td>\n",
       "    </tr>\n",
       "    <tr>\n",
       "      <th>5</th>\n",
       "      <td>5</td>\n",
       "      <td>8.0</td>\n",
       "      <td>0.2718</td>\n",
       "      <td>product, delivery, deadline, deliver, arrive, ...</td>\n",
       "      <td>NaN</td>\n",
       "    </tr>\n",
       "    <tr>\n",
       "      <th>6</th>\n",
       "      <td>6</td>\n",
       "      <td>8.0</td>\n",
       "      <td>0.3622</td>\n",
       "      <td>product, delivery, deadline, deliver, arrive, ...</td>\n",
       "      <td>NaN</td>\n",
       "    </tr>\n",
       "    <tr>\n",
       "      <th>7</th>\n",
       "      <td>7</td>\n",
       "      <td>8.0</td>\n",
       "      <td>0.3189</td>\n",
       "      <td>product, delivery, deadline, deliver, arrive, ...</td>\n",
       "      <td>NaN</td>\n",
       "    </tr>\n",
       "    <tr>\n",
       "      <th>8</th>\n",
       "      <td>8</td>\n",
       "      <td>8.0</td>\n",
       "      <td>0.2935</td>\n",
       "      <td>product, delivery, deadline, deliver, arrive, ...</td>\n",
       "      <td>NaN</td>\n",
       "    </tr>\n",
       "    <tr>\n",
       "      <th>9</th>\n",
       "      <td>9</td>\n",
       "      <td>8.0</td>\n",
       "      <td>0.2872</td>\n",
       "      <td>product, delivery, deadline, deliver, arrive, ...</td>\n",
       "      <td>efficient device. site mark device printed 3de...</td>\n",
       "    </tr>\n",
       "  </tbody>\n",
       "</table>\n",
       "</div>"
      ],
      "text/plain": [
       "   Document_No  Dominant_Topic  Topic_Perc_Contrib  \\\n",
       "0            0             8.0              0.3589   \n",
       "1            1             8.0              0.2532   \n",
       "2            2             4.0              0.3011   \n",
       "3            3             8.0              0.3589   \n",
       "4            4             8.0              0.3456   \n",
       "5            5             8.0              0.2718   \n",
       "6            6             8.0              0.3622   \n",
       "7            7             8.0              0.3189   \n",
       "8            8             8.0              0.2935   \n",
       "9            9             8.0              0.2872   \n",
       "\n",
       "                                            Keywords  \\\n",
       "0  product, delivery, deadline, deliver, arrive, ...   \n",
       "1  product, delivery, deadline, deliver, arrive, ...   \n",
       "2  quality, right, site, date, package, correct, ...   \n",
       "3  product, delivery, deadline, deliver, arrive, ...   \n",
       "4  product, delivery, deadline, deliver, arrive, ...   \n",
       "5  product, delivery, deadline, deliver, arrive, ...   \n",
       "6  product, delivery, deadline, deliver, arrive, ...   \n",
       "7  product, delivery, deadline, deliver, arrive, ...   \n",
       "8  product, delivery, deadline, deliver, arrive, ...   \n",
       "9  product, delivery, deadline, deliver, arrive, ...   \n",
       "\n",
       "                                                Text  \n",
       "0                                                NaN  \n",
       "1                                                NaN  \n",
       "2                                                NaN  \n",
       "3               I received well stipulated deadline.  \n",
       "4  Congratulations LANNISTER stores I loved buy i...  \n",
       "5                                                NaN  \n",
       "6                                                NaN  \n",
       "7                                                NaN  \n",
       "8                                                NaN  \n",
       "9  efficient device. site mark device printed 3de...  "
      ]
     },
     "execution_count": 12,
     "metadata": {},
     "output_type": "execute_result"
    }
   ],
   "source": [
    "# get most dominant class for each record\n",
    "def format_topics_sentences(ldamodel=lda_model, corpus=corpus, texts=trans_reviews['review_comment_message_english']):\n",
    "    # Init output\n",
    "    sent_topics_df = pd.DataFrame()\n",
    "\n",
    "    # Get main topic in each document\n",
    "    for i, row in enumerate(ldamodel[corpus]):\n",
    "        row = sorted(row, key=lambda x: (x[1]), reverse=True)\n",
    "        # Get the Dominant topic, Perc Contribution and Keywords for each document\n",
    "        for j, (topic_num, prop_topic) in enumerate(row):\n",
    "            if j == 0:  # => dominant topic\n",
    "                wp = ldamodel.show_topic(topic_num)\n",
    "                topic_keywords = \", \".join([word for word, prop in wp])\n",
    "                sent_topics_df = sent_topics_df.append(pd.Series([int(topic_num), round(prop_topic,4), topic_keywords]), ignore_index=True)\n",
    "            else:\n",
    "                break\n",
    "    sent_topics_df.columns = ['Dominant_Topic', 'Perc_Contribution', 'Topic_Keywords']\n",
    "\n",
    "    # Add original text to the end of the output\n",
    "    contents = pd.Series(texts)\n",
    "    review_score = pd.Series(texts)\n",
    "    sent_topics_df = pd.concat([sent_topics_df, contents], axis=1)\n",
    "    return(sent_topics_df)\n",
    "\n",
    "\n",
    "df_topic_sents_keywords = format_topics_sentences(ldamodel=lda_model, corpus=corpus, texts=trans_reviews['review_comment_message_english'])\n",
    "\n",
    "# Format\n",
    "df_dominant_topic = df_topic_sents_keywords.reset_index()\n",
    "df_dominant_topic.columns = ['Document_No', 'Dominant_Topic', 'Topic_Perc_Contrib', 'Keywords', 'Text']\n",
    "\n",
    "# Show\n",
    "df_dominant_topic.head(10)"
   ]
  },
  {
   "cell_type": "code",
   "execution_count": 13,
   "id": "bd62bf91",
   "metadata": {},
   "outputs": [
    {
     "name": "stderr",
     "output_type": "stream",
     "text": [
      "C:\\Users\\david\\anaconda3\\lib\\site-packages\\ipykernel\\ipkernel.py:287: DeprecationWarning: `should_run_async` will not call `transform_cell` automatically in the future. Please pass the result to `transformed_cell` argument and any exception that happen during thetransform in `preprocessing_exc_tuple` in IPython 7.17 and above.\n",
      "  and should_run_async(code)\n"
     ]
    }
   ],
   "source": [
    "trans_reviews_with_class = pd.merge(trans_reviews, df_dominant_topic, left_on='review_comment_message_english', right_on='Text', how='left')"
   ]
  },
  {
   "cell_type": "code",
   "execution_count": 14,
   "id": "e61a73aa",
   "metadata": {},
   "outputs": [
    {
     "name": "stderr",
     "output_type": "stream",
     "text": [
      "C:\\Users\\david\\anaconda3\\lib\\site-packages\\ipykernel\\ipkernel.py:287: DeprecationWarning: `should_run_async` will not call `transform_cell` automatically in the future. Please pass the result to `transformed_cell` argument and any exception that happen during thetransform in `preprocessing_exc_tuple` in IPython 7.17 and above.\n",
      "  and should_run_async(code)\n"
     ]
    }
   ],
   "source": [
    "poor_trans_reviews_with_class = trans_reviews_with_class[(trans_reviews_with_class['review_score'] == 1) & (trans_reviews_with_class['review_score'] == 1)]"
   ]
  },
  {
   "cell_type": "code",
   "execution_count": 15,
   "id": "38f3126e",
   "metadata": {},
   "outputs": [
    {
     "name": "stderr",
     "output_type": "stream",
     "text": [
      "C:\\Users\\david\\anaconda3\\lib\\site-packages\\ipykernel\\ipkernel.py:287: DeprecationWarning: `should_run_async` will not call `transform_cell` automatically in the future. Please pass the result to `transformed_cell` argument and any exception that happen during thetransform in `preprocessing_exc_tuple` in IPython 7.17 and above.\n",
      "  and should_run_async(code)\n"
     ]
    },
    {
     "data": {
      "text/html": [
       "<div>\n",
       "<style scoped>\n",
       "    .dataframe tbody tr th:only-of-type {\n",
       "        vertical-align: middle;\n",
       "    }\n",
       "\n",
       "    .dataframe tbody tr th {\n",
       "        vertical-align: top;\n",
       "    }\n",
       "\n",
       "    .dataframe thead th {\n",
       "        text-align: right;\n",
       "    }\n",
       "</style>\n",
       "<table border=\"1\" class=\"dataframe\">\n",
       "  <thead>\n",
       "    <tr style=\"text-align: right;\">\n",
       "      <th></th>\n",
       "      <th>review_id</th>\n",
       "      <th>order_id</th>\n",
       "      <th>review_score</th>\n",
       "      <th>review_comment_title</th>\n",
       "      <th>review_comment_message</th>\n",
       "      <th>review_creation_date</th>\n",
       "      <th>review_answer_timestamp</th>\n",
       "      <th>review_comment_title_english</th>\n",
       "      <th>review_comment_message_english</th>\n",
       "      <th>processed_reviews</th>\n",
       "      <th>Document_No</th>\n",
       "      <th>Dominant_Topic</th>\n",
       "      <th>Topic_Perc_Contrib</th>\n",
       "      <th>Keywords</th>\n",
       "      <th>Text</th>\n",
       "    </tr>\n",
       "  </thead>\n",
       "  <tbody>\n",
       "    <tr>\n",
       "      <th>6</th>\n",
       "      <td>373cbeecea8286a2b66c97b1b157ec46</td>\n",
       "      <td>583174fbe37d3d5f0d6661be3aad1786</td>\n",
       "      <td>1</td>\n",
       "      <td>Não chegou meu produto</td>\n",
       "      <td>Péssimo</td>\n",
       "      <td>2018-08-15 00:00:00</td>\n",
       "      <td>2018-08-15 04:10:37</td>\n",
       "      <td>My product has not arrived</td>\n",
       "      <td>Terrible</td>\n",
       "      <td>[terrible]</td>\n",
       "      <td>19</td>\n",
       "      <td>8.0</td>\n",
       "      <td>0.4045</td>\n",
       "      <td>product, delivery, deadline, deliver, arrive, ...</td>\n",
       "      <td>Terrible</td>\n",
       "    </tr>\n",
       "    <tr>\n",
       "      <th>7</th>\n",
       "      <td>373cbeecea8286a2b66c97b1b157ec46</td>\n",
       "      <td>583174fbe37d3d5f0d6661be3aad1786</td>\n",
       "      <td>1</td>\n",
       "      <td>Não chegou meu produto</td>\n",
       "      <td>Péssimo</td>\n",
       "      <td>2018-08-15 00:00:00</td>\n",
       "      <td>2018-08-15 04:10:37</td>\n",
       "      <td>My product has not arrived</td>\n",
       "      <td>Terrible</td>\n",
       "      <td>[terrible]</td>\n",
       "      <td>22918</td>\n",
       "      <td>8.0</td>\n",
       "      <td>0.2918</td>\n",
       "      <td>product, delivery, deadline, deliver, arrive, ...</td>\n",
       "      <td>Terrible</td>\n",
       "    </tr>\n",
       "    <tr>\n",
       "      <th>8</th>\n",
       "      <td>373cbeecea8286a2b66c97b1b157ec46</td>\n",
       "      <td>583174fbe37d3d5f0d6661be3aad1786</td>\n",
       "      <td>1</td>\n",
       "      <td>Não chegou meu produto</td>\n",
       "      <td>Péssimo</td>\n",
       "      <td>2018-08-15 00:00:00</td>\n",
       "      <td>2018-08-15 04:10:37</td>\n",
       "      <td>My product has not arrived</td>\n",
       "      <td>Terrible</td>\n",
       "      <td>[terrible]</td>\n",
       "      <td>49365</td>\n",
       "      <td>NaN</td>\n",
       "      <td>NaN</td>\n",
       "      <td>NaN</td>\n",
       "      <td>Terrible</td>\n",
       "    </tr>\n",
       "    <tr>\n",
       "      <th>9</th>\n",
       "      <td>373cbeecea8286a2b66c97b1b157ec46</td>\n",
       "      <td>583174fbe37d3d5f0d6661be3aad1786</td>\n",
       "      <td>1</td>\n",
       "      <td>Não chegou meu produto</td>\n",
       "      <td>Péssimo</td>\n",
       "      <td>2018-08-15 00:00:00</td>\n",
       "      <td>2018-08-15 04:10:37</td>\n",
       "      <td>My product has not arrived</td>\n",
       "      <td>Terrible</td>\n",
       "      <td>[terrible]</td>\n",
       "      <td>57967</td>\n",
       "      <td>NaN</td>\n",
       "      <td>NaN</td>\n",
       "      <td>NaN</td>\n",
       "      <td>Terrible</td>\n",
       "    </tr>\n",
       "    <tr>\n",
       "      <th>10</th>\n",
       "      <td>373cbeecea8286a2b66c97b1b157ec46</td>\n",
       "      <td>583174fbe37d3d5f0d6661be3aad1786</td>\n",
       "      <td>1</td>\n",
       "      <td>Não chegou meu produto</td>\n",
       "      <td>Péssimo</td>\n",
       "      <td>2018-08-15 00:00:00</td>\n",
       "      <td>2018-08-15 04:10:37</td>\n",
       "      <td>My product has not arrived</td>\n",
       "      <td>Terrible</td>\n",
       "      <td>[terrible]</td>\n",
       "      <td>60162</td>\n",
       "      <td>NaN</td>\n",
       "      <td>NaN</td>\n",
       "      <td>NaN</td>\n",
       "      <td>Terrible</td>\n",
       "    </tr>\n",
       "    <tr>\n",
       "      <th>...</th>\n",
       "      <td>...</td>\n",
       "      <td>...</td>\n",
       "      <td>...</td>\n",
       "      <td>...</td>\n",
       "      <td>...</td>\n",
       "      <td>...</td>\n",
       "      <td>...</td>\n",
       "      <td>...</td>\n",
       "      <td>...</td>\n",
       "      <td>...</td>\n",
       "      <td>...</td>\n",
       "      <td>...</td>\n",
       "      <td>...</td>\n",
       "      <td>...</td>\n",
       "      <td>...</td>\n",
       "    </tr>\n",
       "    <tr>\n",
       "      <th>756581</th>\n",
       "      <td>9bab7509047d0b236205e330172b384d</td>\n",
       "      <td>e78cde66f03731202b0f5e082b0b0cff</td>\n",
       "      <td>1</td>\n",
       "      <td>NaN</td>\n",
       "      <td>Gostaria de saber porque meu produto ainda não...</td>\n",
       "      <td>2018-03-29 00:00:00</td>\n",
       "      <td>2018-03-29 22:21:55</td>\n",
       "      <td>NaN</td>\n",
       "      <td>I would like know product yet arrived residenc...</td>\n",
       "      <td>[know, product, yet, arrive, residence, give, ...</td>\n",
       "      <td>99094</td>\n",
       "      <td>NaN</td>\n",
       "      <td>NaN</td>\n",
       "      <td>NaN</td>\n",
       "      <td>I would like know product yet arrived residenc...</td>\n",
       "    </tr>\n",
       "    <tr>\n",
       "      <th>757122</th>\n",
       "      <td>9ed2a6bc2282fd2b0105055631afa57f</td>\n",
       "      <td>a7db1b7bfec5e83a8fd33625e99f0d15</td>\n",
       "      <td>1</td>\n",
       "      <td>NaN</td>\n",
       "      <td>Ate hoje dia 21/10/2017 o pedido não foi entre...</td>\n",
       "      <td>2017-10-21 00:00:00</td>\n",
       "      <td>2017-10-21 18:51:37</td>\n",
       "      <td>NaN</td>\n",
       "      <td>Until today 21/10/2017 request delivered, Amer...</td>\n",
       "      <td>[today, request, deliver, american, own, happe...</td>\n",
       "      <td>99141</td>\n",
       "      <td>NaN</td>\n",
       "      <td>NaN</td>\n",
       "      <td>NaN</td>\n",
       "      <td>Until today 21/10/2017 request delivered, Amer...</td>\n",
       "    </tr>\n",
       "    <tr>\n",
       "      <th>757129</th>\n",
       "      <td>2fc8295a24978092328d3a329d22940e</td>\n",
       "      <td>e809c167a9cfd31aee1293abe8995065</td>\n",
       "      <td>1</td>\n",
       "      <td>NaN</td>\n",
       "      <td>Eu recebi o seguinte email e preciso saber com...</td>\n",
       "      <td>2018-02-09 00:00:00</td>\n",
       "      <td>2018-02-13 13:03:24</td>\n",
       "      <td>NaN</td>\n",
       "      <td>I received following email I need know recover...</td>\n",
       "      <td>[receive, follow, email, need, know, recover, ...</td>\n",
       "      <td>99155</td>\n",
       "      <td>NaN</td>\n",
       "      <td>NaN</td>\n",
       "      <td>NaN</td>\n",
       "      <td>I received following email I need know recover...</td>\n",
       "    </tr>\n",
       "    <tr>\n",
       "      <th>757135</th>\n",
       "      <td>3450ec3bbabeb09a08b00fc72da87a30</td>\n",
       "      <td>c46f950813dd2dd9bab4188dceb83175</td>\n",
       "      <td>1</td>\n",
       "      <td>NaN</td>\n",
       "      <td>Boa tarde. \\r\\nNão recebo todos os produtos fa...</td>\n",
       "      <td>2017-12-08 00:00:00</td>\n",
       "      <td>2017-12-08 19:07:00</td>\n",
       "      <td>NaN</td>\n",
       "      <td>Good afternoon. I get products missing comfort...</td>\n",
       "      <td>[good, afternoon, get, product, miss, comfort,...</td>\n",
       "      <td>99169</td>\n",
       "      <td>NaN</td>\n",
       "      <td>NaN</td>\n",
       "      <td>NaN</td>\n",
       "      <td>Good afternoon. I get products missing comfort...</td>\n",
       "    </tr>\n",
       "    <tr>\n",
       "      <th>757167</th>\n",
       "      <td>efe49f1d6f951dd88b51e6ccd4cc548f</td>\n",
       "      <td>90531360ecb1eec2a1fbb265a0db0508</td>\n",
       "      <td>1</td>\n",
       "      <td>NaN</td>\n",
       "      <td>meu produto chegou e ja tenho que devolver, po...</td>\n",
       "      <td>2017-07-03 00:00:00</td>\n",
       "      <td>2017-07-03 21:01:49</td>\n",
       "      <td>NaN</td>\n",
       "      <td>My product arrived I already return, defective...</td>\n",
       "      <td>[product, arrive, already, return, defective, ...</td>\n",
       "      <td>99223</td>\n",
       "      <td>NaN</td>\n",
       "      <td>NaN</td>\n",
       "      <td>NaN</td>\n",
       "      <td>My product arrived I already return, defective...</td>\n",
       "    </tr>\n",
       "  </tbody>\n",
       "</table>\n",
       "<p>27094 rows × 15 columns</p>\n",
       "</div>"
      ],
      "text/plain": [
       "                               review_id                          order_id  \\\n",
       "6       373cbeecea8286a2b66c97b1b157ec46  583174fbe37d3d5f0d6661be3aad1786   \n",
       "7       373cbeecea8286a2b66c97b1b157ec46  583174fbe37d3d5f0d6661be3aad1786   \n",
       "8       373cbeecea8286a2b66c97b1b157ec46  583174fbe37d3d5f0d6661be3aad1786   \n",
       "9       373cbeecea8286a2b66c97b1b157ec46  583174fbe37d3d5f0d6661be3aad1786   \n",
       "10      373cbeecea8286a2b66c97b1b157ec46  583174fbe37d3d5f0d6661be3aad1786   \n",
       "...                                  ...                               ...   \n",
       "756581  9bab7509047d0b236205e330172b384d  e78cde66f03731202b0f5e082b0b0cff   \n",
       "757122  9ed2a6bc2282fd2b0105055631afa57f  a7db1b7bfec5e83a8fd33625e99f0d15   \n",
       "757129  2fc8295a24978092328d3a329d22940e  e809c167a9cfd31aee1293abe8995065   \n",
       "757135  3450ec3bbabeb09a08b00fc72da87a30  c46f950813dd2dd9bab4188dceb83175   \n",
       "757167  efe49f1d6f951dd88b51e6ccd4cc548f  90531360ecb1eec2a1fbb265a0db0508   \n",
       "\n",
       "        review_score     review_comment_title  \\\n",
       "6                  1  Não chegou meu produto    \n",
       "7                  1  Não chegou meu produto    \n",
       "8                  1  Não chegou meu produto    \n",
       "9                  1  Não chegou meu produto    \n",
       "10                 1  Não chegou meu produto    \n",
       "...              ...                      ...   \n",
       "756581             1                      NaN   \n",
       "757122             1                      NaN   \n",
       "757129             1                      NaN   \n",
       "757135             1                      NaN   \n",
       "757167             1                      NaN   \n",
       "\n",
       "                                   review_comment_message  \\\n",
       "6                                                 Péssimo   \n",
       "7                                                 Péssimo   \n",
       "8                                                 Péssimo   \n",
       "9                                                 Péssimo   \n",
       "10                                                Péssimo   \n",
       "...                                                   ...   \n",
       "756581  Gostaria de saber porque meu produto ainda não...   \n",
       "757122  Ate hoje dia 21/10/2017 o pedido não foi entre...   \n",
       "757129  Eu recebi o seguinte email e preciso saber com...   \n",
       "757135  Boa tarde. \\r\\nNão recebo todos os produtos fa...   \n",
       "757167  meu produto chegou e ja tenho que devolver, po...   \n",
       "\n",
       "       review_creation_date review_answer_timestamp  \\\n",
       "6       2018-08-15 00:00:00     2018-08-15 04:10:37   \n",
       "7       2018-08-15 00:00:00     2018-08-15 04:10:37   \n",
       "8       2018-08-15 00:00:00     2018-08-15 04:10:37   \n",
       "9       2018-08-15 00:00:00     2018-08-15 04:10:37   \n",
       "10      2018-08-15 00:00:00     2018-08-15 04:10:37   \n",
       "...                     ...                     ...   \n",
       "756581  2018-03-29 00:00:00     2018-03-29 22:21:55   \n",
       "757122  2017-10-21 00:00:00     2017-10-21 18:51:37   \n",
       "757129  2018-02-09 00:00:00     2018-02-13 13:03:24   \n",
       "757135  2017-12-08 00:00:00     2017-12-08 19:07:00   \n",
       "757167  2017-07-03 00:00:00     2017-07-03 21:01:49   \n",
       "\n",
       "       review_comment_title_english  \\\n",
       "6       My product has not arrived    \n",
       "7       My product has not arrived    \n",
       "8       My product has not arrived    \n",
       "9       My product has not arrived    \n",
       "10      My product has not arrived    \n",
       "...                             ...   \n",
       "756581                          NaN   \n",
       "757122                          NaN   \n",
       "757129                          NaN   \n",
       "757135                          NaN   \n",
       "757167                          NaN   \n",
       "\n",
       "                           review_comment_message_english  \\\n",
       "6                                                Terrible   \n",
       "7                                                Terrible   \n",
       "8                                                Terrible   \n",
       "9                                                Terrible   \n",
       "10                                               Terrible   \n",
       "...                                                   ...   \n",
       "756581  I would like know product yet arrived residenc...   \n",
       "757122  Until today 21/10/2017 request delivered, Amer...   \n",
       "757129  I received following email I need know recover...   \n",
       "757135  Good afternoon. I get products missing comfort...   \n",
       "757167  My product arrived I already return, defective...   \n",
       "\n",
       "                                        processed_reviews  Document_No  \\\n",
       "6                                              [terrible]           19   \n",
       "7                                              [terrible]        22918   \n",
       "8                                              [terrible]        49365   \n",
       "9                                              [terrible]        57967   \n",
       "10                                             [terrible]        60162   \n",
       "...                                                   ...          ...   \n",
       "756581  [know, product, yet, arrive, residence, give, ...        99094   \n",
       "757122  [today, request, deliver, american, own, happe...        99141   \n",
       "757129  [receive, follow, email, need, know, recover, ...        99155   \n",
       "757135  [good, afternoon, get, product, miss, comfort,...        99169   \n",
       "757167  [product, arrive, already, return, defective, ...        99223   \n",
       "\n",
       "        Dominant_Topic  Topic_Perc_Contrib  \\\n",
       "6                  8.0              0.4045   \n",
       "7                  8.0              0.2918   \n",
       "8                  NaN                 NaN   \n",
       "9                  NaN                 NaN   \n",
       "10                 NaN                 NaN   \n",
       "...                ...                 ...   \n",
       "756581             NaN                 NaN   \n",
       "757122             NaN                 NaN   \n",
       "757129             NaN                 NaN   \n",
       "757135             NaN                 NaN   \n",
       "757167             NaN                 NaN   \n",
       "\n",
       "                                                 Keywords  \\\n",
       "6       product, delivery, deadline, deliver, arrive, ...   \n",
       "7       product, delivery, deadline, deliver, arrive, ...   \n",
       "8                                                     NaN   \n",
       "9                                                     NaN   \n",
       "10                                                    NaN   \n",
       "...                                                   ...   \n",
       "756581                                                NaN   \n",
       "757122                                                NaN   \n",
       "757129                                                NaN   \n",
       "757135                                                NaN   \n",
       "757167                                                NaN   \n",
       "\n",
       "                                                     Text  \n",
       "6                                                Terrible  \n",
       "7                                                Terrible  \n",
       "8                                                Terrible  \n",
       "9                                                Terrible  \n",
       "10                                               Terrible  \n",
       "...                                                   ...  \n",
       "756581  I would like know product yet arrived residenc...  \n",
       "757122  Until today 21/10/2017 request delivered, Amer...  \n",
       "757129  I received following email I need know recover...  \n",
       "757135  Good afternoon. I get products missing comfort...  \n",
       "757167  My product arrived I already return, defective...  \n",
       "\n",
       "[27094 rows x 15 columns]"
      ]
     },
     "execution_count": 15,
     "metadata": {},
     "output_type": "execute_result"
    }
   ],
   "source": [
    "poor_trans_reviews_with_class"
   ]
  },
  {
   "cell_type": "code",
   "execution_count": 16,
   "id": "3a4ae44e",
   "metadata": {},
   "outputs": [
    {
     "name": "stderr",
     "output_type": "stream",
     "text": [
      "C:\\Users\\david\\anaconda3\\lib\\site-packages\\ipykernel\\ipkernel.py:287: DeprecationWarning: `should_run_async` will not call `transform_cell` automatically in the future. Please pass the result to `transformed_cell` argument and any exception that happen during thetransform in `preprocessing_exc_tuple` in IPython 7.17 and above.\n",
      "  and should_run_async(code)\n"
     ]
    },
    {
     "data": {
      "text/plain": [
       "<seaborn.axisgrid.FacetGrid at 0x187d48e5520>"
      ]
     },
     "execution_count": 16,
     "metadata": {},
     "output_type": "execute_result"
    },
    {
     "data": {
      "image/png": "[encoded data removed]",
      "text/plain": [
       "<Figure size 360x360 with 1 Axes>"
      ]
     },
     "metadata": {
      "needs_background": "light"
     },
     "output_type": "display_data"
    }
   ],
   "source": [
    "sns.displot(poor_trans_reviews_with_class['Dominant_Topic'], kde=False,bins=10)"
   ]
  },
  {
   "cell_type": "code",
   "execution_count": 17,
   "id": "df7b2fde",
   "metadata": {},
   "outputs": [
    {
     "name": "stderr",
     "output_type": "stream",
     "text": [
      "C:\\Users\\david\\anaconda3\\lib\\site-packages\\ipykernel\\ipkernel.py:287: DeprecationWarning: `should_run_async` will not call `transform_cell` automatically in the future. Please pass the result to `transformed_cell` argument and any exception that happen during thetransform in `preprocessing_exc_tuple` in IPython 7.17 and above.\n",
      "  and should_run_async(code)\n"
     ]
    }
   ],
   "source": [
    "# Rerun LDA Model to get topics for only poor reviews\n",
    "trans_reviews = pd.read_csv('olist_order_reviews_dataset_with_translation.csv',error_bad_lines=False)"
   ]
  },
  {
   "cell_type": "code",
   "execution_count": 18,
   "id": "9aa12918",
   "metadata": {},
   "outputs": [
    {
     "name": "stderr",
     "output_type": "stream",
     "text": [
      "C:\\Users\\david\\anaconda3\\lib\\site-packages\\ipykernel\\ipkernel.py:287: DeprecationWarning: `should_run_async` will not call `transform_cell` automatically in the future. Please pass the result to `transformed_cell` argument and any exception that happen during thetransform in `preprocessing_exc_tuple` in IPython 7.17 and above.\n",
      "  and should_run_async(code)\n"
     ]
    }
   ],
   "source": [
    "# Only care about records that have reviews\n",
    "trans_reviews = trans_reviews[trans_reviews['review_comment_message_english'].notna()]\n",
    "trans_reviews = trans_reviews[(trans_reviews['review_score'] == 1) | (trans_reviews['review_score'] == 2)]"
   ]
  },
  {
   "cell_type": "code",
   "execution_count": 19,
   "id": "8c48d795",
   "metadata": {},
   "outputs": [
    {
     "name": "stderr",
     "output_type": "stream",
     "text": [
      "C:\\Users\\david\\anaconda3\\lib\\site-packages\\ipykernel\\ipkernel.py:287: DeprecationWarning: `should_run_async` will not call `transform_cell` automatically in the future. Please pass the result to `transformed_cell` argument and any exception that happen during thetransform in `preprocessing_exc_tuple` in IPython 7.17 and above.\n",
      "  and should_run_async(code)\n"
     ]
    }
   ],
   "source": [
    "stop = stopwords.words('english')\n",
    "trans_reviews['review_comment_message_english'] = trans_reviews['review_comment_message_english'].apply(lambda x: ' '.join([word for word in x.split() if word not in (stop)]))"
   ]
  },
  {
   "cell_type": "code",
   "execution_count": 20,
   "id": "494f952d",
   "metadata": {},
   "outputs": [
    {
     "name": "stderr",
     "output_type": "stream",
     "text": [
      "C:\\Users\\david\\anaconda3\\lib\\site-packages\\ipykernel\\ipkernel.py:287: DeprecationWarning: `should_run_async` will not call `transform_cell` automatically in the future. Please pass the result to `transformed_cell` argument and any exception that happen during thetransform in `preprocessing_exc_tuple` in IPython 7.17 and above.\n",
      "  and should_run_async(code)\n"
     ]
    }
   ],
   "source": [
    "# lemmatization\n",
    "trans_reviews['review_comment_message_english'] = trans_reviews['review_comment_message_english'].astype(str)\n",
    "trans_reviews['processed_reviews'] = lemmatization(trans_reviews['review_comment_message_english'])"
   ]
  },
  {
   "cell_type": "code",
   "execution_count": 21,
   "id": "da49feab",
   "metadata": {},
   "outputs": [
    {
     "name": "stderr",
     "output_type": "stream",
     "text": [
      "C:\\Users\\david\\anaconda3\\lib\\site-packages\\ipykernel\\ipkernel.py:287: DeprecationWarning: `should_run_async` will not call `transform_cell` automatically in the future. Please pass the result to `transformed_cell` argument and any exception that happen during thetransform in `preprocessing_exc_tuple` in IPython 7.17 and above.\n",
      "  and should_run_async(code)\n"
     ]
    },
    {
     "data": {
      "text/plain": [
       "16       [know, happen, always, receive, purchase, deco...\n",
       "19                                              [terrible]\n",
       "29                                    [do, buy, cat, hare]\n",
       "32       [always, buy, internet, delivery, occur, combi...\n",
       "39                                          [get, request]\n",
       "                               ...                        \n",
       "99155    [receive, follow, email, need, know, recover, ...\n",
       "99169    [good, afternoon, get, product, miss, comfort,...\n",
       "99200    [very, different, photo, mainly, rala, synthet...\n",
       "99203    [problem, delivery, mail, put, site, deliver, ...\n",
       "99223    [product, arrive, already, return, defective, ...\n",
       "Name: processed_reviews, Length: 10889, dtype: object"
      ]
     },
     "execution_count": 21,
     "metadata": {},
     "output_type": "execute_result"
    }
   ],
   "source": [
    "def gen_words(texts):\n",
    "    final = []\n",
    "    for text in texts:\n",
    "        new = gensim.utils.simple_preprocess(text, deacc=True)\n",
    "        final.append(new)\n",
    "    return final\n",
    "\n",
    "trans_reviews['processed_reviews'] = gen_words(trans_reviews['processed_reviews'])\n",
    "trans_reviews['processed_reviews']"
   ]
  },
  {
   "cell_type": "code",
   "execution_count": 22,
   "id": "329f130f",
   "metadata": {},
   "outputs": [
    {
     "name": "stderr",
     "output_type": "stream",
     "text": [
      "C:\\Users\\david\\anaconda3\\lib\\site-packages\\ipykernel\\ipkernel.py:287: DeprecationWarning: `should_run_async` will not call `transform_cell` automatically in the future. Please pass the result to `transformed_cell` argument and any exception that happen during thetransform in `preprocessing_exc_tuple` in IPython 7.17 and above.\n",
      "  and should_run_async(code)\n"
     ]
    }
   ],
   "source": [
    "# bigrams and trigrams, so we can recognise a collection of words\n",
    "bigram_phrases = gensim.models.Phrases(trans_reviews['processed_reviews'], min_count=5,threshold=50)\n",
    "trigram_phrases = gensim.models.Phrases(bigram_phrases[trans_reviews['processed_reviews']],threshold=50)\n",
    "\n",
    "bigram = gensim.models.phrases.Phraser(bigram_phrases)\n",
    "trigram = gensim.models.phrases.Phraser(trigram_phrases)\n",
    "\n",
    "def make_bigrams(texts):\n",
    "    return ([bigram[doc] for doc in texts])\n",
    "\n",
    "def make_trigrams(texts):\n",
    "    return ([trigram[bigram[doc]] for doc in texts])\n",
    "\n",
    "data_bigrams = make_bigrams(trans_reviews['processed_reviews'])\n",
    "data_bigrams_trigrams = make_trigrams(data_bigrams)"
   ]
  },
  {
   "cell_type": "code",
   "execution_count": 23,
   "id": "3050f8a8",
   "metadata": {},
   "outputs": [
    {
     "name": "stderr",
     "output_type": "stream",
     "text": [
      "C:\\Users\\david\\anaconda3\\lib\\site-packages\\ipykernel\\ipkernel.py:287: DeprecationWarning: `should_run_async` will not call `transform_cell` automatically in the future. Please pass the result to `transformed_cell` argument and any exception that happen during thetransform in `preprocessing_exc_tuple` in IPython 7.17 and above.\n",
      "  and should_run_async(code)\n"
     ]
    }
   ],
   "source": [
    "# TF-IDF removal, remove low value words\n",
    "from gensim.models import TfidfModel\n",
    "\n",
    "id2word = corpora.Dictionary(data_bigrams_trigrams)\n",
    "\n",
    "texts = data_bigrams_trigrams\n",
    "\n",
    "corpus = [id2word.doc2bow(text) for text in texts]\n",
    "\n",
    "tfidf = TfidfModel(corpus, id2word=id2word)\n",
    "\n",
    "low_value = 0.03\n",
    "words = []\n",
    "words_missing_in_tfidf = []\n",
    "for i in range(0, len(corpus)):\n",
    "    bow = corpus[i]\n",
    "    low_value_words = []\n",
    "    tfidf_ids = [id for id, value in tfidf[bow]]\n",
    "    bow_ids = [id for id, value in bow]\n",
    "    low_value_words = [id for id, value in tfidf[bow] if value < low_value]\n",
    "    drops = low_value_words + words_missing_in_tfidf\n",
    "    for item in drops:\n",
    "        words.append(id2word[item])\n",
    "    words_missing_in_tfidf = [id for id in bow_ids if id not in tfidf_ids]\n",
    "    \n",
    "    new_bow = [b for b in bow if b[0] not in low_value_words and b[0] not in words_missing_in_tfidf]\n",
    "    corpus[i] = new_bow"
   ]
  },
  {
   "cell_type": "code",
   "execution_count": 24,
   "id": "05ee44b2",
   "metadata": {},
   "outputs": [
    {
     "name": "stderr",
     "output_type": "stream",
     "text": [
      "C:\\Users\\david\\anaconda3\\lib\\site-packages\\ipykernel\\ipkernel.py:287: DeprecationWarning: `should_run_async` will not call `transform_cell` automatically in the future. Please pass the result to `transformed_cell` argument and any exception that happen during thetransform in `preprocessing_exc_tuple` in IPython 7.17 and above.\n",
      "  and should_run_async(code)\n"
     ]
    }
   ],
   "source": [
    "# train the topic model\n",
    "lda_model = gensim.models.ldamodel.LdaModel(corpus=corpus,\n",
    "                                            id2word=id2word,\n",
    "                                            num_topics=10,\n",
    "                                            random_state=100,\n",
    "                                            update_every=1,\n",
    "                                            chunksize=100,\n",
    "                                            passes=10,\n",
    "                                            alpha=\"auto\")"
   ]
  },
  {
   "cell_type": "code",
   "execution_count": 25,
   "id": "9a71bb86",
   "metadata": {},
   "outputs": [
    {
     "name": "stderr",
     "output_type": "stream",
     "text": [
      "C:\\Users\\david\\anaconda3\\lib\\site-packages\\ipykernel\\ipkernel.py:287: DeprecationWarning: `should_run_async` will not call `transform_cell` automatically in the future. Please pass the result to `transformed_cell` argument and any exception that happen during thetransform in `preprocessing_exc_tuple` in IPython 7.17 and above.\n",
      "  and should_run_async(code)\n"
     ]
    },
    {
     "data": {
      "text/html": [
       "\n",
       "<link rel=\"stylesheet\" type=\"text/css\" href=\"https://cdn.jsdelivr.net/gh/bmabey/pyLDAvis@3.3.1/pyLDAvis/js/ldavis.v1.0.0.css\">\n",
       "\n",
       "\n",
       "<div id=\"ldavis_el2164416830136371688148445854\"></div>\n",
       "<script type=\"text/javascript\">\n",
       "\n",
       "var ldavis_el2164416830136371688148445854_data = {\"mdsDat\": {\"x\": [-0.23089739242904242, 0.16397525231238255, 0.20563733401577725, -0.24359690535174472, -0.3505564452968663, 0.15261978800243103, 0.44860268366369005, -0.39207399755482936, 0.27765614068806704, -0.03136645804986506], \"y\": [0.4239570833932149, -0.43271162915349964, 0.43673118589840193, -0.38678495567425, 0.14966625400252875, 0.22429776663818687, -0.13891289407385068, -0.11382243775162204, -0.006749382287961259, -0.15567099099114892], \"topics\": [1, 2, 3, 4, 5, 6, 7, 8, 9, 10], \"cluster\": [1, 1, 1, 1, 1, 1, 1, 1, 1, 1], \"Freq\": [33.32403135975249, 11.675055213388656, 10.830412920835485, 9.003705925284379, 7.275229414819107, 7.1362910399501125, 6.237046908333403, 6.114191923702665, 5.701173059368876, 2.7028622345648268]}, \"tinfo\": {\"Term\": [\"product\", \"buy\", \"come\", \"receive\", \"arrive\", \"request\", \"deliver\", \"return\", \"already\", \"far\", \"send\", \"time\", \"want\", \"delivery\", \"deadline\", \"ask\", \"wrong\", \"purchase\", \"give\", \"get\", \"product\", \"receive\", \"deliver\", \"delivery\", \"purchase\", \"be\", \"store\", \"wait\", \"make\", \"day\", \"yet\", \"still\", \"know\", \"delay\", \"recommend\", \"answer\", \"cancel\", \"need\", \"date\", \"never\", \"buy\", \"send\", \"get\", \"pay\", \"quality\", \"like\", \"email\", \"original\", \"very\", \"money_back\", \"evaluate\", \"half\", \"expect\", \"amount\", \"correct\", \"almost\", \"reversal\", \"card\", \"dissatisfied\", \"home\", \"arrive\", \"already\", \"far\", \"time\", \"order\", \"site\", \"invoice\", \"so\", \"kit\", \"think\", \"cartridge\", \"seller\", \"forecast\", \"black\", \"low\", \"open\", \"complaint\", \"get_touch\", \"backpack\", \"reach\", \"come\", \"bad\", \"different\", \"color\", \"photo\", \"say\", \"poor\", \"response\", \"curtain\", \"model\", \"residence\", \"film\", \"brand\", \"show\", \"description\", \"weak\", \"totally_different\", \"fit\", \"red\", \"game\", \"request\", \"return\", \"want\", \"do\", \"exchange\", \"item\", \"appear\", \"however\", \"several\", \"change\", \"absurd\", \"present\", \"moment\", \"message\", \"track\", \"back\", \"place\", \"report\", \"supplier\", \"printer\", \"deadline\", \"give\", \"problem\", \"company\", \"even\", \"work\", \"try\", \"satisfaction\", \"solve\", \"material\", \"pass\", \"lack\", \"equal\", \"put\", \"complain\", \"seem\", \"end\", \"talk\", \"remove\", \"image\", \"contact\", \"take\", \"box\", \"mail\", \"today\", \"long\", \"month\", \"part\", \"sell\", \"right\", \"inform\", \"defect\", \"look\", \"plastic\", \"late\", \"position\", \"how\", \"addition\", \"sheet\", \"post\", \"good\", \"merchandise\", \"money\", \"first\", \"stock\", \"freight\", \"cover\", \"partner\", \"clock\", \"defective\", \"last\", \"find\", \"when\", \"small\", \"white\", \"accord\", \"unfortunately\", \"house\", \"second\", \"scratch\", \"miss\", \"unit\", \"use\", \"post_office\", \"await\", \"chair\", \"break\", \"customer\", \"lot\", \"piece\", \"note\", \"also\", \"packaging\", \"status\", \"terrible\", \"only\", \"leave\", \"phone\", \"thank\", \"pack\", \"ask\", \"wrong\", \"value\", \"size\", \"loose\", \"respond\", \"lannister\", \"turn\", \"hold\", \"refund\", \"ago\", \"carpet\", \"faulty\", \"network\", \"one\", \"reimbursement\", \"rise\", \"compatible\", \"twice\", \"shop\"], \"Freq\": [6775.0, 2447.0, 1872.0, 4038.0, 1182.0, 936.0, 2002.0, 807.0, 812.0, 810.0, 809.0, 773.0, 615.0, 1455.0, 534.0, 355.0, 353.0, 1136.0, 458.0, 562.0, 6774.868807624484, 4037.5936999971373, 2001.3699153393377, 1454.5512838344703, 1135.2059971708072, 976.4099036388334, 893.0628045055146, 793.7309789863449, 759.5552319476059, 727.3905833743382, 713.3883547446235, 585.9885148341679, 483.0497143581921, 420.8198223870255, 416.54159255245577, 366.9539412442162, 358.28760314373164, 318.33962970697496, 219.17757713662868, 212.12664049383298, 2446.3674848932014, 808.209928964174, 561.9069821678698, 558.8428261129067, 474.129548500988, 302.957055733165, 271.1745651361182, 175.99022892427507, 141.44247231743472, 133.66669843224025, 125.1127046175807, 119.74785569645883, 99.12951874757414, 97.24225993657187, 91.61983795707867, 87.72538879381045, 86.75118915829638, 86.05064025767898, 77.2242458795662, 75.02615670670248, 1181.5783405147524, 811.3084402779682, 809.3659812488313, 772.618137873275, 428.21936776950145, 413.5583569807355, 251.08262801961337, 227.3629352861104, 204.9206574144834, 196.3536820743157, 157.90696603448364, 153.88020246313278, 144.22051076886123, 139.5254557955616, 135.13006544223134, 131.4469135673129, 127.76060198424804, 117.93921375729799, 111.74032151204014, 103.30694668474486, 1871.4973114283353, 339.7377438310829, 336.50880146630493, 266.7432259221329, 249.03018979043716, 245.77438298842173, 179.9220653194386, 163.9195632900693, 109.5040012010628, 96.18976199330544, 84.93647334737703, 78.57696543024012, 76.36420023717524, 76.14940843792998, 74.98741965792817, 74.61775714303752, 70.2625676330656, 65.43269545038919, 64.66526172043227, 60.98724594266201, 935.7189514470087, 806.5386861596628, 614.2160127767548, 321.4509637644525, 288.8674014383326, 178.254124695019, 175.01675832821144, 145.0693114846155, 142.15127329471832, 125.15793673459507, 111.48004649026615, 102.85350562035745, 98.80042720817879, 96.29106817295951, 95.91547304485908, 86.46191970322744, 81.22815839979253, 78.81295390546741, 74.2227701092646, 65.2760426533678, 533.1684145686305, 457.9557935879275, 451.9181030824, 340.09653337914654, 265.2418036522175, 251.22104352942412, 201.47219839647602, 198.5954346334631, 169.7706322149587, 102.62260642138347, 100.16453205571305, 98.85475941358975, 80.8820738210012, 78.67076194526294, 77.42088775875547, 68.87129155839153, 66.56582387807168, 65.21832778147281, 56.004894518364594, 55.38782969469642, 385.77983625181486, 379.90970832430133, 273.63472256937285, 259.2149763475541, 231.4257228330666, 218.01667784525364, 188.26338277182404, 145.98842303058947, 134.83102054633102, 130.49988883345404, 126.41368517800296, 109.75192381083028, 104.19513362948534, 102.75582845699093, 97.52029969044877, 91.90069477722119, 79.52915641132545, 77.84439392872918, 67.29329322903467, 61.532246798285115, 240.39311268350687, 233.9311487984184, 170.63492565373787, 150.30885898857508, 148.28324710712445, 143.78687909655858, 139.91431981402158, 132.15565243526436, 125.68997275590536, 116.85022665791756, 101.16814188369018, 95.05378264666484, 93.22822082749718, 90.56500434354516, 88.45759557598494, 82.18568073243006, 75.56011319269088, 74.86114363135204, 70.82433833611223, 68.08161274895922, 345.4216440009912, 280.9283157103509, 260.640279365781, 250.76105955164584, 226.69538933585105, 144.08829050667384, 134.48810601697966, 129.7921647828156, 121.88640965338686, 113.78955665538523, 109.82618796696701, 99.28439172096779, 97.74682700612215, 94.49661514307736, 91.35467794276435, 85.96578808198184, 79.75346710740794, 79.40468447043791, 75.85295761999609, 66.36621272481759, 354.8018979177948, 352.69427958412814, 178.7654575202469, 57.2150095369807, 53.945737193215386, 51.98790724734081, 50.20717420887478, 48.408927195821924, 44.968110516785714, 43.79965886526602, 37.69649524716002, 36.37880565953141, 30.455609161182068, 27.886520095772813, 26.6045050196124, 25.89230354617319, 24.505787839156145, 23.696761477776004, 23.239495585280096, 22.836894787322723], \"Total\": [6775.0, 2447.0, 1872.0, 4038.0, 1182.0, 936.0, 2002.0, 807.0, 812.0, 810.0, 809.0, 773.0, 615.0, 1455.0, 534.0, 355.0, 353.0, 1136.0, 458.0, 562.0, 6775.761016572492, 4038.4859004463956, 2002.2621165396984, 1455.443480854917, 1136.0981901165724, 977.3021060615675, 893.9550040074267, 794.6231732398378, 760.4474339552092, 728.2827950431328, 714.2805269163099, 586.8807426083315, 483.94192238152704, 421.7120270649782, 417.43377746091056, 367.8461498772446, 359.1798199103552, 319.2318475677643, 220.06976102352334, 213.0188285721927, 2447.2588957692547, 809.1013346760348, 562.7983921718378, 559.7342210313151, 475.02095505052597, 303.84843503578134, 272.0659836337771, 176.88160052186223, 142.33386240655005, 134.55815557346145, 126.00410092414602, 120.63933202480551, 100.02085830981838, 98.1336456284775, 92.51123298125795, 88.61682089541716, 87.64259092969655, 86.94204678885734, 78.11562697107608, 75.91754074670978, 1182.470777248867, 812.2008930218822, 810.2584237094595, 773.5105531627322, 429.11178834474475, 414.45080733687524, 251.97506602743755, 228.25535697672188, 205.81305865364405, 197.24612960584668, 158.79937526289652, 154.7726734523925, 145.11300842335987, 140.41790302282956, 136.02251792674713, 132.33943161689473, 128.65303243985977, 118.83168521081977, 112.63284726950583, 104.19940967369317, 1872.3965293961694, 340.6369847327499, 337.40797337651793, 267.64239046208496, 249.92935115373248, 246.67358517738722, 180.82128693012615, 164.8188427959988, 110.40318901753153, 97.08898417575737, 85.83577681604848, 79.47610505375812, 77.263388277932, 77.04864427930694, 75.88657010364453, 75.5169762977309, 71.16176103674358, 66.33196074496296, 65.56447863707014, 61.88636670355944, 936.6144715192662, 807.4342087429653, 615.1115463524047, 322.3465331153591, 289.76294343703825, 179.14963206150577, 175.91233732484565, 145.96491516407002, 143.0468433996358, 126.05348718870984, 112.37567687633485, 103.74908106433311, 99.69598320155757, 97.18661378185776, 96.81115947703078, 87.35759075904812, 82.1238434266243, 79.7086210170597, 75.11826902478131, 66.17160262895554, 534.0626586975484, 458.85000730872014, 452.81233593065366, 340.990816247254, 266.13604432484584, 252.11527215427822, 202.36647994337085, 199.48968996226614, 170.66482327532398, 103.5168657423106, 101.05874968196437, 99.74905097736708, 81.77643939374788, 79.56500416786312, 78.31516905530468, 69.76552988191975, 67.46006591220069, 66.1126243777693, 56.89917225655633, 56.282081301182075, 386.68026232529746, 380.810066766919, 274.53511506546516, 260.11541426235794, 232.3261013863956, 218.9170188333694, 189.16379719332542, 146.88881480670327, 135.7314722990254, 131.4002722211195, 127.31401349912893, 110.6522829765466, 105.09550099607121, 103.65627858704892, 98.42074527435534, 92.80108433446999, 80.42961670434428, 78.7448746474809, 68.19367126330933, 62.43265762117888, 241.2881304614874, 234.8262004642789, 171.5300643251536, 151.20391516446355, 149.17831503475122, 144.6819170971826, 140.8093189030483, 133.0507089481253, 126.58500005341855, 117.74530170423961, 102.06323093718741, 95.9488192034623, 94.12325605219152, 91.46000232877445, 89.3526893396853, 83.08080215813322, 76.45511661938716, 75.75620629481057, 71.71932863960666, 68.97673405721571, 346.315476549013, 281.8221186552567, 261.5341178971041, 251.65487473956273, 227.58927231654397, 144.9821055422814, 135.38194459137054, 130.68600831379365, 122.78027132912857, 114.68334282499241, 110.72003788773705, 100.17825639865853, 98.64060585859079, 95.39047815058105, 92.24863245588242, 86.85963872870265, 80.64731250809977, 80.29855871601639, 76.74697522846162, 67.26009204362028, 355.7099856463146, 353.60236633140534, 179.67353134767518, 58.123031420345264, 54.8539044327029, 52.89594227883961, 51.11532495625839, 49.31710174836547, 45.87625057897811, 44.70771819270044, 38.6046832105063, 37.2868500197296, 31.3637949062361, 28.79507395282726, 27.512560257743772, 26.800388715128943, 25.414193977242096, 24.604868629543557, 24.147637574888293, 23.74495864131007], \"Category\": [\"Default\", \"Default\", \"Default\", \"Default\", \"Default\", \"Default\", \"Default\", \"Default\", \"Default\", \"Default\", \"Default\", \"Default\", \"Default\", \"Default\", \"Default\", \"Default\", \"Default\", \"Default\", \"Default\", \"Default\", \"Topic1\", \"Topic1\", \"Topic1\", \"Topic1\", \"Topic1\", \"Topic1\", \"Topic1\", \"Topic1\", \"Topic1\", \"Topic1\", \"Topic1\", \"Topic1\", \"Topic1\", \"Topic1\", \"Topic1\", \"Topic1\", \"Topic1\", \"Topic1\", \"Topic1\", \"Topic1\", \"Topic2\", \"Topic2\", \"Topic2\", \"Topic2\", \"Topic2\", \"Topic2\", \"Topic2\", \"Topic2\", \"Topic2\", \"Topic2\", \"Topic2\", \"Topic2\", \"Topic2\", \"Topic2\", \"Topic2\", \"Topic2\", \"Topic2\", \"Topic2\", \"Topic2\", \"Topic2\", \"Topic3\", \"Topic3\", \"Topic3\", \"Topic3\", \"Topic3\", \"Topic3\", \"Topic3\", \"Topic3\", \"Topic3\", \"Topic3\", \"Topic3\", \"Topic3\", \"Topic3\", \"Topic3\", \"Topic3\", \"Topic3\", \"Topic3\", \"Topic3\", \"Topic3\", \"Topic3\", \"Topic4\", \"Topic4\", \"Topic4\", \"Topic4\", \"Topic4\", \"Topic4\", \"Topic4\", \"Topic4\", \"Topic4\", \"Topic4\", \"Topic4\", \"Topic4\", \"Topic4\", \"Topic4\", \"Topic4\", \"Topic4\", \"Topic4\", \"Topic4\", \"Topic4\", \"Topic4\", \"Topic5\", \"Topic5\", \"Topic5\", \"Topic5\", \"Topic5\", \"Topic5\", \"Topic5\", \"Topic5\", \"Topic5\", \"Topic5\", \"Topic5\", \"Topic5\", \"Topic5\", \"Topic5\", \"Topic5\", \"Topic5\", \"Topic5\", \"Topic5\", \"Topic5\", \"Topic5\", \"Topic6\", \"Topic6\", \"Topic6\", \"Topic6\", \"Topic6\", \"Topic6\", \"Topic6\", \"Topic6\", \"Topic6\", \"Topic6\", \"Topic6\", \"Topic6\", \"Topic6\", \"Topic6\", \"Topic6\", \"Topic6\", \"Topic6\", \"Topic6\", \"Topic6\", \"Topic6\", \"Topic7\", \"Topic7\", \"Topic7\", \"Topic7\", \"Topic7\", \"Topic7\", \"Topic7\", \"Topic7\", \"Topic7\", \"Topic7\", \"Topic7\", \"Topic7\", \"Topic7\", \"Topic7\", \"Topic7\", \"Topic7\", \"Topic7\", \"Topic7\", \"Topic7\", \"Topic7\", \"Topic8\", \"Topic8\", \"Topic8\", \"Topic8\", \"Topic8\", \"Topic8\", \"Topic8\", \"Topic8\", \"Topic8\", \"Topic8\", \"Topic8\", \"Topic8\", \"Topic8\", \"Topic8\", \"Topic8\", \"Topic8\", \"Topic8\", \"Topic8\", \"Topic8\", \"Topic8\", \"Topic9\", \"Topic9\", \"Topic9\", \"Topic9\", \"Topic9\", \"Topic9\", \"Topic9\", \"Topic9\", \"Topic9\", \"Topic9\", \"Topic9\", \"Topic9\", \"Topic9\", \"Topic9\", \"Topic9\", \"Topic9\", \"Topic9\", \"Topic9\", \"Topic9\", \"Topic9\", \"Topic10\", \"Topic10\", \"Topic10\", \"Topic10\", \"Topic10\", \"Topic10\", \"Topic10\", \"Topic10\", \"Topic10\", \"Topic10\", \"Topic10\", \"Topic10\", \"Topic10\", \"Topic10\", \"Topic10\", \"Topic10\", \"Topic10\", \"Topic10\", \"Topic10\", \"Topic10\"], \"logprob\": [20.0, 19.0, 18.0, 17.0, 16.0, 15.0, 14.0, 13.0, 12.0, 11.0, 10.0, 9.0, 8.0, 7.0, 6.0, 5.0, 4.0, 3.0, 2.0, 1.0, -1.4512, -1.9688, -2.6706, -2.9897, -3.2376, -3.3883, -3.4775, -3.5954, -3.6394, -3.6827, -3.7022, -3.8989, -4.0921, -4.23, -4.2402, -4.3669, -4.3908, -4.5091, -4.8823, -4.915, -1.421, -2.5285, -2.892, -2.8975, -3.0619, -3.5098, -3.6206, -4.0529, -4.2715, -4.328, -4.3941, -4.438, -4.6269, -4.6462, -4.7057, -4.7491, -4.7603, -4.7684, -4.8766, -4.9055, -2.0737, -2.4496, -2.452, -2.4985, -3.0886, -3.1235, -3.6225, -3.7217, -3.8256, -3.8683, -4.0863, -4.1121, -4.1769, -4.21, -4.242, -4.2697, -4.2981, -4.3781, -4.4321, -4.5106, -1.429, -3.1354, -3.1449, -3.3773, -3.446, -3.4591, -3.771, -3.8642, -4.2676, -4.3972, -4.5216, -4.5995, -4.628, -4.6308, -4.6462, -4.6512, -4.7113, -4.7825, -4.7943, -4.8529, -1.9091, -2.0576, -2.33, -2.9775, -3.0844, -3.5672, -3.5855, -3.7732, -3.7935, -3.9208, -4.0365, -4.1171, -4.1573, -4.183, -4.1869, -4.2907, -4.3531, -4.3833, -4.4433, -4.5718, -2.4523, -2.6043, -2.6176, -2.9019, -3.1505, -3.2048, -3.4254, -3.4398, -3.5966, -4.1, -4.1243, -4.1374, -4.3381, -4.3658, -4.3818, -4.4989, -4.5329, -4.5534, -4.7057, -4.7167, -2.6411, -2.6565, -2.9846, -3.0388, -3.1522, -3.2118, -3.3586, -3.6129, -3.6924, -3.725, -3.7569, -3.8982, -3.9501, -3.9641, -4.0163, -4.0757, -4.2203, -4.2417, -4.3873, -4.4768, -3.0942, -3.1215, -3.437, -3.5638, -3.5774, -3.6082, -3.6355, -3.6925, -3.7427, -3.8156, -3.9597, -4.0221, -4.0415, -4.0704, -4.094, -4.1675, -4.2516, -4.2609, -4.3163, -4.3558, -2.6618, -2.8685, -2.9434, -2.9821, -3.083, -3.5361, -3.6051, -3.6406, -3.7035, -3.7722, -3.8077, -3.9086, -3.9242, -3.958, -3.9918, -4.0526, -4.1276, -4.132, -4.1778, -4.3114, -1.8887, -1.8946, -2.5741, -3.7134, -3.7722, -3.8092, -3.8441, -3.8805, -3.9543, -3.9806, -4.1306, -4.1662, -4.3439, -4.4321, -4.4791, -4.5063, -4.5613, -4.5949, -4.6144, -4.6318], \"loglift\": [20.0, 19.0, 18.0, 17.0, 16.0, 15.0, 14.0, 13.0, 12.0, 11.0, 10.0, 9.0, 8.0, 7.0, 6.0, 5.0, 4.0, 3.0, 2.0, 1.0, 1.0988, 1.0987, 1.0984, 1.0983, 1.0981, 1.098, 1.0979, 1.0978, 1.0977, 1.0977, 1.0976, 1.0974, 1.097, 1.0968, 1.0968, 1.0965, 1.0964, 1.0961, 1.0948, 1.0947, 2.1474, 2.1466, 2.1461, 2.1461, 2.1458, 2.1448, 2.1444, 2.1427, 2.1414, 2.1411, 2.1406, 2.1403, 2.1388, 2.1386, 2.138, 2.1376, 2.1375, 2.1374, 2.1362, 2.1359, 2.2221, 2.2217, 2.2217, 2.2217, 2.2207, 2.2207, 2.2193, 2.2189, 2.2185, 2.2183, 2.2172, 2.217, 2.2166, 2.2164, 2.2162, 2.216, 2.2159, 2.2153, 2.2149, 2.2142, 2.4071, 2.4049, 2.4049, 2.4042, 2.4039, 2.4039, 2.4025, 2.4021, 2.3994, 2.3982, 2.397, 2.3962, 2.3958, 2.3958, 2.3956, 2.3956, 2.3948, 2.3939, 2.3937, 2.3929, 2.6197, 2.6196, 2.6192, 2.6179, 2.6176, 2.6157, 2.6156, 2.6145, 2.6144, 2.6136, 2.6127, 2.612, 2.6117, 2.6114, 2.6114, 2.6104, 2.6097, 2.6094, 2.6087, 2.6071, 2.6383, 2.638, 2.638, 2.6374, 2.6366, 2.6364, 2.6355, 2.6355, 2.6347, 2.6313, 2.6311, 2.631, 2.629, 2.6287, 2.6285, 2.6271, 2.6266, 2.6264, 2.6241, 2.624, 2.7723, 2.7723, 2.7714, 2.7712, 2.7708, 2.7705, 2.7699, 2.7685, 2.768, 2.7678, 2.7676, 2.7665, 2.7661, 2.7659, 2.7655, 2.7649, 2.7634, 2.7632, 2.7614, 2.7601, 2.7908, 2.7907, 2.7893, 2.7886, 2.7885, 2.7884, 2.7882, 2.7878, 2.7875, 2.7869, 2.7857, 2.7852, 2.785, 2.7847, 2.7845, 2.7837, 2.7828, 2.7827, 2.782, 2.7815, 2.8619, 2.8613, 2.8611, 2.8609, 2.8606, 2.8583, 2.8579, 2.8576, 2.8572, 2.8567, 2.8564, 2.8555, 2.8554, 2.8551, 2.8548, 2.8542, 2.8534, 2.8533, 2.8528, 2.8511, 3.6083, 3.6083, 3.6058, 3.5951, 3.5942, 3.5935, 3.5929, 3.5923, 3.5909, 3.5903, 3.5871, 3.5862, 3.5815, 3.5788, 3.5773, 3.5764, 3.5745, 3.5733, 3.5725, 3.5719]}, \"token.table\": {\"Topic\": [5, 8, 7, 10, 2, 3, 9, 2, 1, 5, 3, 10, 9, 5, 3, 4, 1, 3, 7, 4, 9, 2, 1, 2, 10, 3, 9, 5, 8, 4, 4, 6, 10, 6, 3, 7, 2, 8, 4, 9, 1, 1, 6, 7, 8, 1, 1, 1, 4, 4, 2, 5, 2, 6, 6, 2, 6, 5, 2, 3, 10, 4, 8, 8, 4, 3, 8, 4, 2, 3, 6, 8, 2, 10, 2, 8, 7, 5, 6, 7, 3, 5, 3, 1, 6, 10, 8, 7, 9, 2, 7, 7, 10, 9, 3, 7, 1, 6, 8, 5, 9, 4, 5, 8, 2, 7, 1, 10, 1, 9, 10, 9, 3, 3, 2, 9, 9, 7, 8, 6, 2, 9, 4, 9, 5, 7, 4, 7, 7, 9, 5, 5, 6, 1, 1, 6, 2, 3, 1, 1, 4, 10, 10, 6, 5, 5, 4, 10, 4, 5, 2, 7, 10, 6, 4, 8, 8, 6, 7, 3, 2, 5, 7, 10, 4, 3, 10, 8, 3, 6, 9, 1, 8, 1, 5, 7, 6, 9, 9, 3, 3, 7, 4, 5, 6, 10, 10, 8, 9, 9, 10, 2, 1, 5, 4, 8, 8, 6, 10, 1], \"Freq\": [0.9877582327904576, 0.9869909518196989, 0.9905406586674308, 0.984336532248975, 0.9930394603509292, 0.9985214335120783, 0.9882384018147644, 0.9884479413638688, 0.9976997180002374, 0.9948136819809238, 0.99960186986611, 0.9980040322876386, 0.9974108080291044, 0.9844593841559497, 0.9943813258312509, 0.9981300188725847, 0.9986676524551708, 0.9970238622438221, 0.9980508319843253, 0.9836482931166916, 0.9897922533500185, 0.9994855894603424, 0.9967152388721346, 0.9891646582562619, 0.9654878323310044, 0.9949661309336191, 0.9932260223521516, 0.9916425383207947, 0.9953785989400665, 0.9975998179474639, 0.9992541486943368, 0.9970943022508397, 0.9754167096500048, 0.9832067137034981, 0.9949240804707418, 0.9982407627397201, 0.9944738280446276, 0.9942523768359, 0.9963480310567161, 0.9947507133881811, 0.9951389912973596, 0.9982386031197444, 0.9980102359147521, 0.9941051105408747, 0.9936702212873707, 0.9983115798950916, 0.9993696546874294, 0.9996952950349838, 0.9883171672875231, 0.9987908602975939, 0.9857182613219098, 0.9958227156894001, 0.9960818930042648, 0.9931801739891647, 0.9905053411532216, 0.9920312044069861, 0.9957313398576737, 0.9973670082585836, 0.9897935457956556, 0.9984468859901532, 0.9565169039552374, 0.9940094566356004, 0.990111194579161, 0.992037804291284, 0.9799197742686341, 0.9923300575499563, 0.9952867842031388, 0.9856775126611454, 0.9985813886767572, 0.9930011494043506, 0.9981475268711323, 0.994661442902211, 0.9947004677987271, 0.9808996906259896, 0.9879139822274928, 0.9900178964629283, 0.9946584762933344, 0.9933894034536627, 0.9772204355002212, 0.9896789562828611, 0.9961303074831563, 0.9935828388354653, 0.9960495283488677, 0.9980536458240862, 0.9924906455747932, 0.9781802236958715, 0.989582625129301, 0.9957250346643639, 0.991973539006216, 0.9972077031244824, 0.9958111121818838, 0.9895761380298081, 0.9844331148067955, 0.993644977970142, 0.9924827304895372, 0.9957118486594843, 0.9994116175093365, 0.995006941732594, 0.9964816512695541, 0.9877903577902076, 0.9962015080523644, 0.9887836484746197, 0.9930189444026999, 0.9969097876384585, 0.9958519379885769, 0.9938476748162545, 0.9961412134248203, 0.9723885427719419, 0.9952171900530032, 0.9934967698578001, 0.981369954197574, 0.9901031279742293, 0.9898788169139776, 0.9974090939122568, 0.9950158720903632, 0.981265383300352, 0.9935056577054164, 0.9939490640735791, 0.9921029436338068, 0.9895234238965325, 0.9986882684607665, 0.9838283683196748, 0.996281544566725, 0.9940414814552869, 0.9863152602249012, 0.9936687039512249, 0.9954580185548424, 0.9913677265711384, 0.9930700111501882, 0.9973977267865745, 0.9927798775984472, 0.9822944800728935, 0.9982060207591649, 0.9998876854466043, 0.9990333668989828, 0.9928988356907379, 0.9978507157638606, 0.9884892853284948, 0.99987968252004, 0.9989608472425278, 0.9913904808090553, 0.9841701115308544, 0.9701351826036344, 0.9841970942476633, 0.9911098572774452, 0.9993439440261163, 0.990263071564674, 0.9830621737653018, 0.9950318617573823, 0.9994622363800497, 0.992668051881168, 0.9893434602725698, 0.9837022579739102, 0.9975452868649063, 0.9972693258708555, 0.9858396592624187, 0.9899702262520983, 0.9890271043133274, 0.9946108865789511, 0.995007688145736, 0.9986388173782018, 0.9926818140494635, 0.9824958644813193, 0.9686266608182659, 0.98638984126047, 0.9989122778170659, 0.9806783749418796, 0.9949704535637244, 0.9945002080417771, 0.9961045090454788, 0.9854233024350075, 0.9984992818056746, 0.9921012981378914, 0.9989317090869835, 0.9851132215997629, 0.9978727800612087, 0.9831707727799198, 0.9864644881702764, 0.9902670401505986, 0.9936823621921668, 0.9993399532034247, 0.9942920688700833, 0.9836743635933388, 0.9916212192745896, 0.9932474985790472, 0.9732932045543589, 0.9524741262440617, 0.9940472706143025, 0.9970828455226314, 0.9979577505933116, 0.9962513602163701, 0.9906286361938235, 0.9992157625641636, 0.99819293531556, 0.9931541711138872, 0.9880661156519206, 0.9848612352948563, 0.9955763403591206, 0.9982964867072163, 0.9982072492976419], \"Term\": [\"absurd\", \"accord\", \"addition\", \"ago\", \"almost\", \"already\", \"also\", \"amount\", \"answer\", \"appear\", \"arrive\", \"ask\", \"await\", \"back\", \"backpack\", \"bad\", \"be\", \"black\", \"box\", \"brand\", \"break\", \"buy\", \"cancel\", \"card\", \"carpet\", \"cartridge\", \"chair\", \"change\", \"clock\", \"color\", \"come\", \"company\", \"compatible\", \"complain\", \"complaint\", \"contact\", \"correct\", \"cover\", \"curtain\", \"customer\", \"date\", \"day\", \"deadline\", \"defect\", \"defective\", \"delay\", \"deliver\", \"delivery\", \"description\", \"different\", \"dissatisfied\", \"do\", \"email\", \"end\", \"equal\", \"evaluate\", \"even\", \"exchange\", \"expect\", \"far\", \"faulty\", \"film\", \"find\", \"first\", \"fit\", \"forecast\", \"freight\", \"game\", \"get\", \"get_touch\", \"give\", \"good\", \"half\", \"hold\", \"home\", \"house\", \"how\", \"however\", \"image\", \"inform\", \"invoice\", \"item\", \"kit\", \"know\", \"lack\", \"lannister\", \"last\", \"late\", \"leave\", \"like\", \"long\", \"look\", \"loose\", \"lot\", \"low\", \"mail\", \"make\", \"material\", \"merchandise\", \"message\", \"miss\", \"model\", \"moment\", \"money\", \"money_back\", \"month\", \"need\", \"network\", \"never\", \"note\", \"one\", \"only\", \"open\", \"order\", \"original\", \"pack\", \"packaging\", \"part\", \"partner\", \"pass\", \"pay\", \"phone\", \"photo\", \"piece\", \"place\", \"plastic\", \"poor\", \"position\", \"post\", \"post_office\", \"present\", \"printer\", \"problem\", \"product\", \"purchase\", \"put\", \"quality\", \"reach\", \"receive\", \"recommend\", \"red\", \"refund\", \"reimbursement\", \"remove\", \"report\", \"request\", \"residence\", \"respond\", \"response\", \"return\", \"reversal\", \"right\", \"rise\", \"satisfaction\", \"say\", \"scratch\", \"second\", \"seem\", \"sell\", \"seller\", \"send\", \"several\", \"sheet\", \"shop\", \"show\", \"site\", \"size\", \"small\", \"so\", \"solve\", \"status\", \"still\", \"stock\", \"store\", \"supplier\", \"take\", \"talk\", \"terrible\", \"thank\", \"think\", \"time\", \"today\", \"totally_different\", \"track\", \"try\", \"turn\", \"twice\", \"unfortunately\", \"unit\", \"use\", \"value\", \"very\", \"wait\", \"want\", \"weak\", \"when\", \"white\", \"work\", \"wrong\", \"yet\"]}, \"R\": 20, \"lambda.step\": 0.01, \"plot.opts\": {\"xlab\": \"PC1\", \"ylab\": \"PC2\"}, \"topic.order\": [5, 4, 10, 1, 7, 8, 3, 6, 2, 9]};\n",
       "\n",
       "function LDAvis_load_lib(url, callback){\n",
       "  var s = document.createElement('script');\n",
       "  s.src = url;\n",
       "  s.async = true;\n",
       "  s.onreadystatechange = s.onload = callback;\n",
       "  s.onerror = function(){console.warn(\"failed to load library \" + url);};\n",
       "  document.getElementsByTagName(\"head\")[0].appendChild(s);\n",
       "}\n",
       "\n",
       "if(typeof(LDAvis) !== \"undefined\"){\n",
       "   // already loaded: just create the visualization\n",
       "   !function(LDAvis){\n",
       "       new LDAvis(\"#\" + \"ldavis_el2164416830136371688148445854\", ldavis_el2164416830136371688148445854_data);\n",
       "   }(LDAvis);\n",
       "}else if(typeof define === \"function\" && define.amd){\n",
       "   // require.js is available: use it to load d3/LDAvis\n",
       "   require.config({paths: {d3: \"https://d3js.org/d3.v5\"}});\n",
       "   require([\"d3\"], function(d3){\n",
       "      window.d3 = d3;\n",
       "      LDAvis_load_lib(\"https://cdn.jsdelivr.net/gh/bmabey/pyLDAvis@3.3.1/pyLDAvis/js/ldavis.v3.0.0.js\", function(){\n",
       "        new LDAvis(\"#\" + \"ldavis_el2164416830136371688148445854\", ldavis_el2164416830136371688148445854_data);\n",
       "      });\n",
       "    });\n",
       "}else{\n",
       "    // require.js not available: dynamically load d3 & LDAvis\n",
       "    LDAvis_load_lib(\"https://d3js.org/d3.v5.js\", function(){\n",
       "         LDAvis_load_lib(\"https://cdn.jsdelivr.net/gh/bmabey/pyLDAvis@3.3.1/pyLDAvis/js/ldavis.v3.0.0.js\", function(){\n",
       "                 new LDAvis(\"#\" + \"ldavis_el2164416830136371688148445854\", ldavis_el2164416830136371688148445854_data);\n",
       "            })\n",
       "         });\n",
       "}\n",
       "</script>"
      ],
      "text/plain": [
       "PreparedData(topic_coordinates=              x         y  topics  cluster       Freq\n",
       "topic                                                \n",
       "4     -0.230897  0.423957       1        1  33.324031\n",
       "3      0.163975 -0.432712       2        1  11.675055\n",
       "9      0.205637  0.436731       3        1  10.830413\n",
       "0     -0.243597 -0.386785       4        1   9.003706\n",
       "6     -0.350556  0.149666       5        1   7.275229\n",
       "7      0.152620  0.224298       6        1   7.136291\n",
       "2      0.448603 -0.138913       7        1   6.237047\n",
       "5     -0.392074 -0.113822       8        1   6.114192\n",
       "1      0.277656 -0.006749       9        1   5.701173\n",
       "8     -0.031366 -0.155671      10        1   2.702862, topic_info=               Term         Freq        Total Category  logprob  loglift\n",
       "20          product  6775.000000  6775.000000  Default  20.0000  20.0000\n",
       "7               buy  2447.000000  2447.000000  Default  19.0000  19.0000\n",
       "95             come  1872.000000  1872.000000  Default  18.0000  18.0000\n",
       "5           receive  4038.000000  4038.000000  Default  17.0000  17.0000\n",
       "67           arrive  1182.000000  1182.000000  Default  16.0000  16.0000\n",
       "...             ...          ...          ...      ...      ...      ...\n",
       "51    reimbursement    25.892304    26.800389  Topic10  -4.5063   3.5764\n",
       "2443           rise    24.505788    25.414194  Topic10  -4.5613   3.5745\n",
       "1110     compatible    23.696761    24.604869  Topic10  -4.5949   3.5733\n",
       "862           twice    23.239496    24.147638  Topic10  -4.6144   3.5725\n",
       "744            shop    22.836895    23.744959  Topic10  -4.6318   3.5719\n",
       "\n",
       "[220 rows x 6 columns], token_table=      Topic      Freq      Term\n",
       "term                           \n",
       "620       5  0.987758    absurd\n",
       "111       8  0.986991    accord\n",
       "843       7  0.990541  addition\n",
       "592      10  0.984337       ago\n",
       "130       2  0.993039    almost\n",
       "...     ...       ...       ...\n",
       "206       8  0.988066      when\n",
       "345       8  0.984861     white\n",
       "66        6  0.995576      work\n",
       "402      10  0.998296     wrong\n",
       "21        1  0.998207       yet\n",
       "\n",
       "[200 rows x 3 columns], R=20, lambda_step=0.01, plot_opts={'xlab': 'PC1', 'ylab': 'PC2'}, topic_order=[5, 4, 10, 1, 7, 8, 3, 6, 2, 9])"
      ]
     },
     "execution_count": 25,
     "metadata": {},
     "output_type": "execute_result"
    }
   ],
   "source": [
    "pyLDAvis.enable_notebook()\n",
    "vis = pyLDAvis.gensim_models.prepare(lda_model,corpus,id2word,mds=\"mmds\",R=20)\n",
    "vis"
   ]
  },
  {
   "cell_type": "markdown",
   "id": "c0d932c8",
   "metadata": {},
   "source": [
    "The code below was an exploration into using the model for practical classification, but there is a limitation in conclusively labelling categories"
   ]
  },
  {
   "cell_type": "code",
   "execution_count": 27,
   "id": "4414a343",
   "metadata": {},
   "outputs": [
    {
     "name": "stderr",
     "output_type": "stream",
     "text": [
      "C:\\Users\\david\\anaconda3\\lib\\site-packages\\ipykernel\\ipkernel.py:287: DeprecationWarning: `should_run_async` will not call `transform_cell` automatically in the future. Please pass the result to `transformed_cell` argument and any exception that happen during thetransform in `preprocessing_exc_tuple` in IPython 7.17 and above.\n",
      "  and should_run_async(code)\n"
     ]
    },
    {
     "data": {
      "text/html": [
       "<div>\n",
       "<style scoped>\n",
       "    .dataframe tbody tr th:only-of-type {\n",
       "        vertical-align: middle;\n",
       "    }\n",
       "\n",
       "    .dataframe tbody tr th {\n",
       "        vertical-align: top;\n",
       "    }\n",
       "\n",
       "    .dataframe thead th {\n",
       "        text-align: right;\n",
       "    }\n",
       "</style>\n",
       "<table border=\"1\" class=\"dataframe\">\n",
       "  <thead>\n",
       "    <tr style=\"text-align: right;\">\n",
       "      <th></th>\n",
       "      <th>Document_No</th>\n",
       "      <th>Dominant_Topic</th>\n",
       "      <th>Topic_Perc_Contrib</th>\n",
       "      <th>Keywords</th>\n",
       "      <th>Text</th>\n",
       "    </tr>\n",
       "  </thead>\n",
       "  <tbody>\n",
       "    <tr>\n",
       "      <th>0</th>\n",
       "      <td>0</td>\n",
       "      <td>4.0</td>\n",
       "      <td>0.4535</td>\n",
       "      <td>product, receive, deliver, delivery, purchase,...</td>\n",
       "      <td>NaN</td>\n",
       "    </tr>\n",
       "    <tr>\n",
       "      <th>1</th>\n",
       "      <td>1</td>\n",
       "      <td>4.0</td>\n",
       "      <td>0.3278</td>\n",
       "      <td>product, receive, deliver, delivery, purchase,...</td>\n",
       "      <td>NaN</td>\n",
       "    </tr>\n",
       "    <tr>\n",
       "      <th>2</th>\n",
       "      <td>2</td>\n",
       "      <td>4.0</td>\n",
       "      <td>0.2931</td>\n",
       "      <td>product, receive, deliver, delivery, purchase,...</td>\n",
       "      <td>NaN</td>\n",
       "    </tr>\n",
       "    <tr>\n",
       "      <th>3</th>\n",
       "      <td>3</td>\n",
       "      <td>4.0</td>\n",
       "      <td>0.3295</td>\n",
       "      <td>product, receive, deliver, delivery, purchase,...</td>\n",
       "      <td>NaN</td>\n",
       "    </tr>\n",
       "    <tr>\n",
       "      <th>4</th>\n",
       "      <td>4</td>\n",
       "      <td>4.0</td>\n",
       "      <td>0.3154</td>\n",
       "      <td>product, receive, deliver, delivery, purchase,...</td>\n",
       "      <td>NaN</td>\n",
       "    </tr>\n",
       "    <tr>\n",
       "      <th>5</th>\n",
       "      <td>5</td>\n",
       "      <td>4.0</td>\n",
       "      <td>0.3066</td>\n",
       "      <td>product, receive, deliver, delivery, purchase,...</td>\n",
       "      <td>NaN</td>\n",
       "    </tr>\n",
       "    <tr>\n",
       "      <th>6</th>\n",
       "      <td>6</td>\n",
       "      <td>9.0</td>\n",
       "      <td>0.2958</td>\n",
       "      <td>arrive, already, far, time, order, site, invoi...</td>\n",
       "      <td>NaN</td>\n",
       "    </tr>\n",
       "    <tr>\n",
       "      <th>7</th>\n",
       "      <td>7</td>\n",
       "      <td>4.0</td>\n",
       "      <td>0.3513</td>\n",
       "      <td>product, receive, deliver, delivery, purchase,...</td>\n",
       "      <td>NaN</td>\n",
       "    </tr>\n",
       "    <tr>\n",
       "      <th>8</th>\n",
       "      <td>8</td>\n",
       "      <td>4.0</td>\n",
       "      <td>0.3637</td>\n",
       "      <td>product, receive, deliver, delivery, purchase,...</td>\n",
       "      <td>NaN</td>\n",
       "    </tr>\n",
       "    <tr>\n",
       "      <th>9</th>\n",
       "      <td>9</td>\n",
       "      <td>4.0</td>\n",
       "      <td>0.3287</td>\n",
       "      <td>product, receive, deliver, delivery, purchase,...</td>\n",
       "      <td>NaN</td>\n",
       "    </tr>\n",
       "  </tbody>\n",
       "</table>\n",
       "</div>"
      ],
      "text/plain": [
       "   Document_No  Dominant_Topic  Topic_Perc_Contrib  \\\n",
       "0            0             4.0              0.4535   \n",
       "1            1             4.0              0.3278   \n",
       "2            2             4.0              0.2931   \n",
       "3            3             4.0              0.3295   \n",
       "4            4             4.0              0.3154   \n",
       "5            5             4.0              0.3066   \n",
       "6            6             9.0              0.2958   \n",
       "7            7             4.0              0.3513   \n",
       "8            8             4.0              0.3637   \n",
       "9            9             4.0              0.3287   \n",
       "\n",
       "                                            Keywords Text  \n",
       "0  product, receive, deliver, delivery, purchase,...  NaN  \n",
       "1  product, receive, deliver, delivery, purchase,...  NaN  \n",
       "2  product, receive, deliver, delivery, purchase,...  NaN  \n",
       "3  product, receive, deliver, delivery, purchase,...  NaN  \n",
       "4  product, receive, deliver, delivery, purchase,...  NaN  \n",
       "5  product, receive, deliver, delivery, purchase,...  NaN  \n",
       "6  arrive, already, far, time, order, site, invoi...  NaN  \n",
       "7  product, receive, deliver, delivery, purchase,...  NaN  \n",
       "8  product, receive, deliver, delivery, purchase,...  NaN  \n",
       "9  product, receive, deliver, delivery, purchase,...  NaN  "
      ]
     },
     "execution_count": 27,
     "metadata": {},
     "output_type": "execute_result"
    }
   ],
   "source": [
    "# get most dominant class for each record\n",
    "def format_topics_sentences(ldamodel=lda_model, corpus=corpus, texts=trans_reviews['review_comment_message_english']):\n",
    "    # Init output\n",
    "    sent_topics_df = pd.DataFrame()\n",
    "\n",
    "    # Get main topic in each document\n",
    "    for i, row in enumerate(ldamodel[corpus]):\n",
    "        row = sorted(row, key=lambda x: (x[1]), reverse=True)\n",
    "        # Get the Dominant topic, Perc Contribution and Keywords for each document\n",
    "        for j, (topic_num, prop_topic) in enumerate(row):\n",
    "            if j == 0:  # => dominant topic\n",
    "                wp = ldamodel.show_topic(topic_num)\n",
    "                topic_keywords = \", \".join([word for word, prop in wp])\n",
    "                sent_topics_df = sent_topics_df.append(pd.Series([int(topic_num), round(prop_topic,4), topic_keywords]), ignore_index=True)\n",
    "            else:\n",
    "                break\n",
    "    sent_topics_df.columns = ['Dominant_Topic', 'Perc_Contribution', 'Topic_Keywords']\n",
    "\n",
    "    # Add original text to the end of the output\n",
    "    contents = pd.Series(texts)\n",
    "    review_score = pd.Series(texts)\n",
    "    sent_topics_df = pd.concat([sent_topics_df, contents], axis=1)\n",
    "    return(sent_topics_df)\n",
    "\n",
    "\n",
    "df_topic_sents_keywords = format_topics_sentences(ldamodel=lda_model, corpus=corpus, texts=trans_reviews['review_comment_message_english'])\n",
    "\n",
    "# Format\n",
    "df_dominant_topic = df_topic_sents_keywords.reset_index()\n",
    "df_dominant_topic.columns = ['Document_No', 'Dominant_Topic', 'Topic_Perc_Contrib', 'Keywords', 'Text']\n",
    "\n",
    "# Show\n",
    "df_dominant_topic.head(10)"
   ]
  },
  {
   "cell_type": "code",
   "execution_count": 28,
   "id": "5f74d08b",
   "metadata": {},
   "outputs": [
    {
     "name": "stderr",
     "output_type": "stream",
     "text": [
      "C:\\Users\\david\\anaconda3\\lib\\site-packages\\ipykernel\\ipkernel.py:287: DeprecationWarning: `should_run_async` will not call `transform_cell` automatically in the future. Please pass the result to `transformed_cell` argument and any exception that happen during thetransform in `preprocessing_exc_tuple` in IPython 7.17 and above.\n",
      "  and should_run_async(code)\n"
     ]
    },
    {
     "data": {
      "text/plain": [
       "<seaborn.axisgrid.FacetGrid at 0x187c86237f0>"
      ]
     },
     "execution_count": 28,
     "metadata": {},
     "output_type": "execute_result"
    },
    {
     "data": {
      "image/png": "[encoded data removed]",
      "text/plain": [
       "<Figure size 360x360 with 1 Axes>"
      ]
     },
     "metadata": {
      "needs_background": "light"
     },
     "output_type": "display_data"
    }
   ],
   "source": [
    "sns.displot(df_dominant_topic['Dominant_Topic'], kde=False,bins=10)"
   ]
  },
  {
   "cell_type": "code",
   "execution_count": 29,
   "id": "707364df",
   "metadata": {},
   "outputs": [
    {
     "name": "stderr",
     "output_type": "stream",
     "text": [
      "C:\\Users\\david\\anaconda3\\lib\\site-packages\\ipykernel\\ipkernel.py:287: DeprecationWarning: `should_run_async` will not call `transform_cell` automatically in the future. Please pass the result to `transformed_cell` argument and any exception that happen during thetransform in `preprocessing_exc_tuple` in IPython 7.17 and above.\n",
      "  and should_run_async(code)\n"
     ]
    }
   ],
   "source": [
    "trans_reviews_with_class = pd.merge(trans_reviews, df_dominant_topic, left_on='review_comment_message_english', right_on='Text', how='left')"
   ]
  },
  {
   "cell_type": "code",
   "execution_count": 30,
   "id": "5c22fda7",
   "metadata": {},
   "outputs": [
    {
     "name": "stderr",
     "output_type": "stream",
     "text": [
      "C:\\Users\\david\\anaconda3\\lib\\site-packages\\ipykernel\\ipkernel.py:287: DeprecationWarning: `should_run_async` will not call `transform_cell` automatically in the future. Please pass the result to `transformed_cell` argument and any exception that happen during thetransform in `preprocessing_exc_tuple` in IPython 7.17 and above.\n",
      "  and should_run_async(code)\n"
     ]
    },
    {
     "data": {
      "text/plain": [
       "<seaborn.axisgrid.FacetGrid at 0x187d0f76fd0>"
      ]
     },
     "execution_count": 30,
     "metadata": {},
     "output_type": "execute_result"
    },
    {
     "data": {
      "image/png": "[encoded data removed]",
      "text/plain": [
       "<Figure size 360x360 with 1 Axes>"
      ]
     },
     "metadata": {
      "needs_background": "light"
     },
     "output_type": "display_data"
    }
   ],
   "source": [
    "sns.displot(poor_trans_reviews_with_class['Dominant_Topic'], kde=False,bins=10)"
   ]
  },
  {
   "cell_type": "code",
   "execution_count": 31,
   "id": "eb67abed",
   "metadata": {},
   "outputs": [
    {
     "name": "stderr",
     "output_type": "stream",
     "text": [
      "C:\\Users\\david\\anaconda3\\lib\\site-packages\\ipykernel\\ipkernel.py:287: DeprecationWarning: `should_run_async` will not call `transform_cell` automatically in the future. Please pass the result to `transformed_cell` argument and any exception that happen during thetransform in `preprocessing_exc_tuple` in IPython 7.17 and above.\n",
      "  and should_run_async(code)\n"
     ]
    },
    {
     "ename": "SyntaxError",
     "evalue": "invalid syntax (<ipython-input-31-7e7e77426a7a>, line 1)",
     "output_type": "error",
     "traceback": [
      "\u001b[1;36m  File \u001b[1;32m\"<ipython-input-31-7e7e77426a7a>\"\u001b[1;36m, line \u001b[1;32m1\u001b[0m\n\u001b[1;33m    Creation of word cloud\u001b[0m\n\u001b[1;37m             ^\u001b[0m\n\u001b[1;31mSyntaxError\u001b[0m\u001b[1;31m:\u001b[0m invalid syntax\n"
     ]
    }
   ],
   "source": [
    "Creation of word cloud"
   ]
  },
  {
   "cell_type": "code",
   "execution_count": null,
   "id": "00f0c8c3",
   "metadata": {},
   "outputs": [],
   "source": [
    "trans_reviews = pd.read_csv('olist_order_reviews_dataset_with_translation.csv',error_bad_lines=False)\n",
    "trans_reviews = trans_reviews[trans_reviews['review_comment_message_english'].notna()]"
   ]
  },
  {
   "cell_type": "code",
   "execution_count": null,
   "id": "277ac491",
   "metadata": {},
   "outputs": [],
   "source": [
    "allWords = ' '.join(trans_reviews['review_comment_message_english'])\n",
    "wordCloud = WordCloud(width=500, height=300, random_state=21, max_font_size=119).generate(allWords)\n",
    "\n",
    "plt.imshow(wordCloud, interpolation=\"bilinear\")\n",
    "plt.axis('off')\n",
    "plt.show()"
   ]
  }
 ],
 "metadata": {
  "kernelspec": {
   "display_name": "Python 3",
   "language": "python",
   "name": "python3"
  },
  "language_info": {
   "codemirror_mode": {
    "name": "ipython",
    "version": 3
   },
   "file_extension": ".py",
   "mimetype": "text/x-python",
   "name": "python",
   "nbconvert_exporter": "python",
   "pygments_lexer": "ipython3",
   "version": "3.8.8"
  }
 },
 "nbformat": 4,
 "nbformat_minor": 5
}
